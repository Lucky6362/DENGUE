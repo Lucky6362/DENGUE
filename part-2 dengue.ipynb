{
 "cells": [
  {
   "cell_type": "code",
   "execution_count": 1,
   "id": "ab9b500c-57ec-40e1-bdc2-91fb2bb74835",
   "metadata": {},
   "outputs": [
    {
     "name": "stdout",
     "output_type": "stream",
     "text": [
      "Requirement already satisfied: conda in c:\\users\\abhis\\anaconda3\\lib\\site-packages (24.7.1)\n",
      "Requirement already satisfied: archspec>=0.2.3 in c:\\users\\abhis\\anaconda3\\lib\\site-packages (from conda) (0.2.3)\n",
      "Requirement already satisfied: boltons>=23.0.0 in c:\\users\\abhis\\anaconda3\\lib\\site-packages (from conda) (23.0.0)\n",
      "Requirement already satisfied: charset-normalizer in c:\\users\\abhis\\anaconda3\\lib\\site-packages (from conda) (2.0.4)\n",
      "Requirement already satisfied: conda-libmamba-solver>=23.11.0 in c:\\users\\abhis\\anaconda3\\lib\\site-packages (from conda) (24.1.0)\n",
      "Requirement already satisfied: conda-package-handling>=2.2.0 in c:\\users\\abhis\\anaconda3\\lib\\site-packages (from conda) (2.3.0)\n",
      "Requirement already satisfied: distro>=1.5.0 in c:\\users\\abhis\\anaconda3\\lib\\site-packages (from conda) (1.9.0)\n",
      "Requirement already satisfied: frozendict>=2.4.2 in c:\\users\\abhis\\anaconda3\\lib\\site-packages (from conda) (2.4.2)\n",
      "Requirement already satisfied: jsonpatch>=1.32 in c:\\users\\abhis\\anaconda3\\lib\\site-packages (from conda) (1.33)\n",
      "Requirement already satisfied: menuinst>=2 in c:\\users\\abhis\\anaconda3\\lib\\site-packages (from conda) (2.1.1)\n",
      "Requirement already satisfied: packaging>=23.0 in c:\\users\\abhis\\anaconda3\\lib\\site-packages (from conda) (23.2)\n",
      "Requirement already satisfied: platformdirs>=3.10.0 in c:\\users\\abhis\\anaconda3\\lib\\site-packages (from conda) (3.10.0)\n",
      "Requirement already satisfied: pluggy>=1.0.0 in c:\\users\\abhis\\anaconda3\\lib\\site-packages (from conda) (1.0.0)\n",
      "Requirement already satisfied: pycosat>=0.6.3 in c:\\users\\abhis\\anaconda3\\lib\\site-packages (from conda) (0.6.6)\n",
      "Requirement already satisfied: requests<3,>=2.28.0 in c:\\users\\abhis\\anaconda3\\lib\\site-packages (from conda) (2.32.2)\n",
      "Requirement already satisfied: ruamel-yaml<0.19,>=0.11.14 in c:\\users\\abhis\\anaconda3\\lib\\site-packages (from conda) (0.17.21)\n",
      "Requirement already satisfied: setuptools>=60.0.0 in c:\\users\\abhis\\anaconda3\\lib\\site-packages (from conda) (69.5.1)\n",
      "Requirement already satisfied: tqdm>=4 in c:\\users\\abhis\\anaconda3\\lib\\site-packages (from conda) (4.66.4)\n",
      "Requirement already satisfied: truststore>=0.8.0 in c:\\users\\abhis\\anaconda3\\lib\\site-packages (from conda) (0.8.0)\n",
      "Requirement already satisfied: zstandard>=0.15 in c:\\users\\abhis\\anaconda3\\lib\\site-packages (from conda) (0.22.0)\n",
      "Requirement already satisfied: libmambapy>=1.5.6 in c:\\users\\abhis\\anaconda3\\lib\\site-packages (from conda-libmamba-solver>=23.11.0->conda) (1.5.8)\n",
      "Requirement already satisfied: conda-package-streaming>=0.9.0 in c:\\users\\abhis\\anaconda3\\lib\\site-packages (from conda-package-handling>=2.2.0->conda) (0.10.0)\n",
      "Requirement already satisfied: jsonpointer>=1.9 in c:\\users\\abhis\\anaconda3\\lib\\site-packages (from jsonpatch>=1.32->conda) (2.1)\n",
      "Requirement already satisfied: idna<4,>=2.5 in c:\\users\\abhis\\anaconda3\\lib\\site-packages (from requests<3,>=2.28.0->conda) (3.7)\n",
      "Requirement already satisfied: urllib3<3,>=1.21.1 in c:\\users\\abhis\\anaconda3\\lib\\site-packages (from requests<3,>=2.28.0->conda) (2.2.2)\n",
      "Requirement already satisfied: certifi>=2017.4.17 in c:\\users\\abhis\\anaconda3\\lib\\site-packages (from requests<3,>=2.28.0->conda) (2024.7.4)\n",
      "Requirement already satisfied: colorama in c:\\users\\abhis\\anaconda3\\lib\\site-packages (from tqdm>=4->conda) (0.4.6)\n",
      "Requirement already satisfied: rdkit in c:\\users\\abhis\\anaconda3\\lib\\site-packages (2024.3.5)\n",
      "Requirement already satisfied: numpy in c:\\users\\abhis\\anaconda3\\lib\\site-packages (from rdkit) (1.26.4)\n",
      "Requirement already satisfied: Pillow in c:\\users\\abhis\\anaconda3\\lib\\site-packages (from rdkit) (10.3.0)\n"
     ]
    }
   ],
   "source": [
    "!pip install conda\n",
    "!pip install rdkit\n",
    "\n",
    "from rdkit import Chem\n",
    "from rdkit.Chem import Descriptors, Lipinski"
   ]
  },
  {
   "cell_type": "code",
   "execution_count": 2,
   "id": "1b6643b5-4099-49ae-bbe5-8788440860c0",
   "metadata": {},
   "outputs": [],
   "source": [
    "import pandas as pd"
   ]
  },
  {
   "cell_type": "code",
   "execution_count": 3,
   "id": "de692ab3-a5b8-433d-b18d-6e5a8f6511ea",
   "metadata": {},
   "outputs": [
    {
     "data": {
      "text/html": [
       "<div>\n",
       "<style scoped>\n",
       "    .dataframe tbody tr th:only-of-type {\n",
       "        vertical-align: middle;\n",
       "    }\n",
       "\n",
       "    .dataframe tbody tr th {\n",
       "        vertical-align: top;\n",
       "    }\n",
       "\n",
       "    .dataframe thead th {\n",
       "        text-align: right;\n",
       "    }\n",
       "</style>\n",
       "<table border=\"1\" class=\"dataframe\">\n",
       "  <thead>\n",
       "    <tr style=\"text-align: right;\">\n",
       "      <th></th>\n",
       "      <th>Unnamed: 0</th>\n",
       "      <th>molecule_chembl_id</th>\n",
       "      <th>standard_value</th>\n",
       "      <th>canonical_smiles</th>\n",
       "      <th>bioactivity</th>\n",
       "    </tr>\n",
       "  </thead>\n",
       "  <tbody>\n",
       "    <tr>\n",
       "      <th>0</th>\n",
       "      <td>0</td>\n",
       "      <td>CHEMBL1401841</td>\n",
       "      <td>100000.0</td>\n",
       "      <td>COc1ccc2nc3cccc(OC)c3nc2c1</td>\n",
       "      <td>inactive</td>\n",
       "    </tr>\n",
       "    <tr>\n",
       "      <th>1</th>\n",
       "      <td>1</td>\n",
       "      <td>CHEMBL1608853</td>\n",
       "      <td>12310.0</td>\n",
       "      <td>O=C(O)c1ccc2c(c1)C(=O)/C(=C\\c1ccco1)C2=O</td>\n",
       "      <td>inactive</td>\n",
       "    </tr>\n",
       "    <tr>\n",
       "      <th>2</th>\n",
       "      <td>2</td>\n",
       "      <td>CHEMBL1429799</td>\n",
       "      <td>100000.0</td>\n",
       "      <td>O=C1NN(c2ccccc2)C(=O)/C1=C\\c1ccccc1OCC(=O)N1CC...</td>\n",
       "      <td>inactive</td>\n",
       "    </tr>\n",
       "    <tr>\n",
       "      <th>3</th>\n",
       "      <td>3</td>\n",
       "      <td>CHEMBL246446</td>\n",
       "      <td>50970.0</td>\n",
       "      <td>O=C(O)c1ccc2nc(-c3ccco3)c(-c3ccco3)nc2c1</td>\n",
       "      <td>inactive</td>\n",
       "    </tr>\n",
       "    <tr>\n",
       "      <th>4</th>\n",
       "      <td>4</td>\n",
       "      <td>CHEMBL1383455</td>\n",
       "      <td>100000.0</td>\n",
       "      <td>CCn1nc([N+](=O)[O-])c(C(C#N)c2nc3ccccc3n2C)c(C...</td>\n",
       "      <td>inactive</td>\n",
       "    </tr>\n",
       "  </tbody>\n",
       "</table>\n",
       "</div>"
      ],
      "text/plain": [
       "   Unnamed: 0 molecule_chembl_id  standard_value  \\\n",
       "0           0      CHEMBL1401841        100000.0   \n",
       "1           1      CHEMBL1608853         12310.0   \n",
       "2           2      CHEMBL1429799        100000.0   \n",
       "3           3       CHEMBL246446         50970.0   \n",
       "4           4      CHEMBL1383455        100000.0   \n",
       "\n",
       "                                    canonical_smiles bioactivity  \n",
       "0                         COc1ccc2nc3cccc(OC)c3nc2c1    inactive  \n",
       "1           O=C(O)c1ccc2c(c1)C(=O)/C(=C\\c1ccco1)C2=O    inactive  \n",
       "2  O=C1NN(c2ccccc2)C(=O)/C1=C\\c1ccccc1OCC(=O)N1CC...    inactive  \n",
       "3           O=C(O)c1ccc2nc(-c3ccco3)c(-c3ccco3)nc2c1    inactive  \n",
       "4  CCn1nc([N+](=O)[O-])c(C(C#N)c2nc3ccccc3n2C)c(C...    inactive  "
      ]
     },
     "execution_count": 3,
     "metadata": {},
     "output_type": "execute_result"
    }
   ],
   "source": [
    "x=pd.read_csv('bio-2.csv')\n",
    "x.head()"
   ]
  },
  {
   "cell_type": "code",
   "execution_count": 4,
   "id": "38ab05ae-f7c2-47f0-a988-2072c535e359",
   "metadata": {},
   "outputs": [
    {
     "data": {
      "text/plain": [
       "(1237, 5)"
      ]
     },
     "execution_count": 4,
     "metadata": {},
     "output_type": "execute_result"
    }
   ],
   "source": [
    "x.shape"
   ]
  },
  {
   "cell_type": "code",
   "execution_count": 5,
   "id": "20651260-e670-4f73-a975-699fddbf0cde",
   "metadata": {},
   "outputs": [],
   "source": [
    "import numpy as np\n",
    "from rdkit import Chem\n",
    "from rdkit.Chem import Descriptors, Lipinski"
   ]
  },
  {
   "cell_type": "code",
   "execution_count": 6,
   "id": "131cb6dc-01e7-445d-8735-4ae327eec3af",
   "metadata": {},
   "outputs": [],
   "source": [
    "def lipinski(smiles, verbose=False):\n",
    "\n",
    "    moldata= []\n",
    "    for elem in smiles:\n",
    "        mol=Chem.MolFromSmiles(elem) \n",
    "        moldata.append(mol)\n",
    "       \n",
    "    baseData= np.arange(1,1)\n",
    "    i=0  \n",
    "    for mol in moldata:        \n",
    "       \n",
    "        desc_MolWt = Descriptors.MolWt(mol)\n",
    "        desc_MolLogP = Descriptors.MolLogP(mol)\n",
    "        desc_NumHDonors = Lipinski.NumHDonors(mol)\n",
    "        desc_NumHAcceptors = Lipinski.NumHAcceptors(mol)\n",
    "           \n",
    "        row = np.array([desc_MolWt,\n",
    "                        desc_MolLogP,\n",
    "                        desc_NumHDonors,\n",
    "                        desc_NumHAcceptors])   \n",
    "    \n",
    "        if(i==0):\n",
    "            baseData=row\n",
    "        else:\n",
    "            baseData=np.vstack([baseData, row])\n",
    "        i=i+1      \n",
    "    \n",
    "    columnNames=[\"MW\",\"LogP\",\"NumHDonors\",\"NumHAcceptors\"]   \n",
    "    descriptors = pd.DataFrame(data=baseData,columns=columnNames)\n",
    "    \n",
    "    return descriptors\n",
    "     \n"
   ]
  },
  {
   "cell_type": "code",
   "execution_count": 7,
   "id": "6fa38cbe-7657-4bd3-89a1-84389dce19ce",
   "metadata": {},
   "outputs": [],
   "source": [
    "df_lip=lipinski(x.canonical_smiles)"
   ]
  },
  {
   "cell_type": "code",
   "execution_count": 8,
   "id": "193ea5a8-037d-433d-989f-555546e9864e",
   "metadata": {},
   "outputs": [
    {
     "data": {
      "text/html": [
       "<div>\n",
       "<style scoped>\n",
       "    .dataframe tbody tr th:only-of-type {\n",
       "        vertical-align: middle;\n",
       "    }\n",
       "\n",
       "    .dataframe tbody tr th {\n",
       "        vertical-align: top;\n",
       "    }\n",
       "\n",
       "    .dataframe thead th {\n",
       "        text-align: right;\n",
       "    }\n",
       "</style>\n",
       "<table border=\"1\" class=\"dataframe\">\n",
       "  <thead>\n",
       "    <tr style=\"text-align: right;\">\n",
       "      <th></th>\n",
       "      <th>MW</th>\n",
       "      <th>LogP</th>\n",
       "      <th>NumHDonors</th>\n",
       "      <th>NumHAcceptors</th>\n",
       "    </tr>\n",
       "  </thead>\n",
       "  <tbody>\n",
       "    <tr>\n",
       "      <th>0</th>\n",
       "      <td>240.262</td>\n",
       "      <td>2.80020</td>\n",
       "      <td>0.0</td>\n",
       "      <td>4.0</td>\n",
       "    </tr>\n",
       "    <tr>\n",
       "      <th>1</th>\n",
       "      <td>268.224</td>\n",
       "      <td>2.44040</td>\n",
       "      <td>1.0</td>\n",
       "      <td>4.0</td>\n",
       "    </tr>\n",
       "    <tr>\n",
       "      <th>2</th>\n",
       "      <td>407.426</td>\n",
       "      <td>1.38560</td>\n",
       "      <td>1.0</td>\n",
       "      <td>5.0</td>\n",
       "    </tr>\n",
       "    <tr>\n",
       "      <th>3</th>\n",
       "      <td>306.277</td>\n",
       "      <td>3.84800</td>\n",
       "      <td>1.0</td>\n",
       "      <td>5.0</td>\n",
       "    </tr>\n",
       "    <tr>\n",
       "      <th>4</th>\n",
       "      <td>372.772</td>\n",
       "      <td>2.36698</td>\n",
       "      <td>0.0</td>\n",
       "      <td>8.0</td>\n",
       "    </tr>\n",
       "  </tbody>\n",
       "</table>\n",
       "</div>"
      ],
      "text/plain": [
       "        MW     LogP  NumHDonors  NumHAcceptors\n",
       "0  240.262  2.80020         0.0            4.0\n",
       "1  268.224  2.44040         1.0            4.0\n",
       "2  407.426  1.38560         1.0            5.0\n",
       "3  306.277  3.84800         1.0            5.0\n",
       "4  372.772  2.36698         0.0            8.0"
      ]
     },
     "execution_count": 8,
     "metadata": {},
     "output_type": "execute_result"
    }
   ],
   "source": [
    "df_lip.head()"
   ]
  },
  {
   "cell_type": "code",
   "execution_count": 9,
   "id": "751bc59d-2c5c-4d85-81af-0e60ea6b565e",
   "metadata": {},
   "outputs": [
    {
     "data": {
      "text/plain": [
       "(1237, 4)"
      ]
     },
     "execution_count": 9,
     "metadata": {},
     "output_type": "execute_result"
    }
   ],
   "source": [
    "df_lip.shape"
   ]
  },
  {
   "cell_type": "markdown",
   "id": "316a8eda-dbaf-4f44-bbdd-7e2bf8f1615c",
   "metadata": {},
   "source": [
    "logp-solubility\n",
    "mw-molar weight\n"
   ]
  },
  {
   "cell_type": "code",
   "execution_count": 11,
   "id": "e6c722d0-290a-4f06-9f4b-661a17116ddd",
   "metadata": {},
   "outputs": [],
   "source": [
    "xa=pd.concat([x,df_lip],axis=1)"
   ]
  },
  {
   "cell_type": "code",
   "execution_count": 12,
   "id": "721e654d-ab61-408e-a87e-6f67af5d3988",
   "metadata": {},
   "outputs": [
    {
     "data": {
      "text/html": [
       "<div>\n",
       "<style scoped>\n",
       "    .dataframe tbody tr th:only-of-type {\n",
       "        vertical-align: middle;\n",
       "    }\n",
       "\n",
       "    .dataframe tbody tr th {\n",
       "        vertical-align: top;\n",
       "    }\n",
       "\n",
       "    .dataframe thead th {\n",
       "        text-align: right;\n",
       "    }\n",
       "</style>\n",
       "<table border=\"1\" class=\"dataframe\">\n",
       "  <thead>\n",
       "    <tr style=\"text-align: right;\">\n",
       "      <th></th>\n",
       "      <th>Unnamed: 0</th>\n",
       "      <th>molecule_chembl_id</th>\n",
       "      <th>standard_value</th>\n",
       "      <th>canonical_smiles</th>\n",
       "      <th>bioactivity</th>\n",
       "      <th>MW</th>\n",
       "      <th>LogP</th>\n",
       "      <th>NumHDonors</th>\n",
       "      <th>NumHAcceptors</th>\n",
       "    </tr>\n",
       "  </thead>\n",
       "  <tbody>\n",
       "    <tr>\n",
       "      <th>0</th>\n",
       "      <td>0</td>\n",
       "      <td>CHEMBL1401841</td>\n",
       "      <td>100000.0</td>\n",
       "      <td>COc1ccc2nc3cccc(OC)c3nc2c1</td>\n",
       "      <td>inactive</td>\n",
       "      <td>240.262</td>\n",
       "      <td>2.80020</td>\n",
       "      <td>0.0</td>\n",
       "      <td>4.0</td>\n",
       "    </tr>\n",
       "    <tr>\n",
       "      <th>1</th>\n",
       "      <td>1</td>\n",
       "      <td>CHEMBL1608853</td>\n",
       "      <td>12310.0</td>\n",
       "      <td>O=C(O)c1ccc2c(c1)C(=O)/C(=C\\c1ccco1)C2=O</td>\n",
       "      <td>inactive</td>\n",
       "      <td>268.224</td>\n",
       "      <td>2.44040</td>\n",
       "      <td>1.0</td>\n",
       "      <td>4.0</td>\n",
       "    </tr>\n",
       "    <tr>\n",
       "      <th>2</th>\n",
       "      <td>2</td>\n",
       "      <td>CHEMBL1429799</td>\n",
       "      <td>100000.0</td>\n",
       "      <td>O=C1NN(c2ccccc2)C(=O)/C1=C\\c1ccccc1OCC(=O)N1CC...</td>\n",
       "      <td>inactive</td>\n",
       "      <td>407.426</td>\n",
       "      <td>1.38560</td>\n",
       "      <td>1.0</td>\n",
       "      <td>5.0</td>\n",
       "    </tr>\n",
       "    <tr>\n",
       "      <th>3</th>\n",
       "      <td>3</td>\n",
       "      <td>CHEMBL246446</td>\n",
       "      <td>50970.0</td>\n",
       "      <td>O=C(O)c1ccc2nc(-c3ccco3)c(-c3ccco3)nc2c1</td>\n",
       "      <td>inactive</td>\n",
       "      <td>306.277</td>\n",
       "      <td>3.84800</td>\n",
       "      <td>1.0</td>\n",
       "      <td>5.0</td>\n",
       "    </tr>\n",
       "    <tr>\n",
       "      <th>4</th>\n",
       "      <td>4</td>\n",
       "      <td>CHEMBL1383455</td>\n",
       "      <td>100000.0</td>\n",
       "      <td>CCn1nc([N+](=O)[O-])c(C(C#N)c2nc3ccccc3n2C)c(C...</td>\n",
       "      <td>inactive</td>\n",
       "      <td>372.772</td>\n",
       "      <td>2.36698</td>\n",
       "      <td>0.0</td>\n",
       "      <td>8.0</td>\n",
       "    </tr>\n",
       "  </tbody>\n",
       "</table>\n",
       "</div>"
      ],
      "text/plain": [
       "   Unnamed: 0 molecule_chembl_id  standard_value  \\\n",
       "0           0      CHEMBL1401841        100000.0   \n",
       "1           1      CHEMBL1608853         12310.0   \n",
       "2           2      CHEMBL1429799        100000.0   \n",
       "3           3       CHEMBL246446         50970.0   \n",
       "4           4      CHEMBL1383455        100000.0   \n",
       "\n",
       "                                    canonical_smiles bioactivity       MW  \\\n",
       "0                         COc1ccc2nc3cccc(OC)c3nc2c1    inactive  240.262   \n",
       "1           O=C(O)c1ccc2c(c1)C(=O)/C(=C\\c1ccco1)C2=O    inactive  268.224   \n",
       "2  O=C1NN(c2ccccc2)C(=O)/C1=C\\c1ccccc1OCC(=O)N1CC...    inactive  407.426   \n",
       "3           O=C(O)c1ccc2nc(-c3ccco3)c(-c3ccco3)nc2c1    inactive  306.277   \n",
       "4  CCn1nc([N+](=O)[O-])c(C(C#N)c2nc3ccccc3n2C)c(C...    inactive  372.772   \n",
       "\n",
       "      LogP  NumHDonors  NumHAcceptors  \n",
       "0  2.80020         0.0            4.0  \n",
       "1  2.44040         1.0            4.0  \n",
       "2  1.38560         1.0            5.0  \n",
       "3  3.84800         1.0            5.0  \n",
       "4  2.36698         0.0            8.0  "
      ]
     },
     "execution_count": 12,
     "metadata": {},
     "output_type": "execute_result"
    }
   ],
   "source": [
    "xa.head()"
   ]
  },
  {
   "cell_type": "code",
   "execution_count": 13,
   "id": "883ce030-2c55-4ed0-9dfe-a12305835bc7",
   "metadata": {},
   "outputs": [
    {
     "data": {
      "text/html": [
       "<div>\n",
       "<style scoped>\n",
       "    .dataframe tbody tr th:only-of-type {\n",
       "        vertical-align: middle;\n",
       "    }\n",
       "\n",
       "    .dataframe tbody tr th {\n",
       "        vertical-align: top;\n",
       "    }\n",
       "\n",
       "    .dataframe thead th {\n",
       "        text-align: right;\n",
       "    }\n",
       "</style>\n",
       "<table border=\"1\" class=\"dataframe\">\n",
       "  <thead>\n",
       "    <tr style=\"text-align: right;\">\n",
       "      <th></th>\n",
       "      <th>Unnamed: 0</th>\n",
       "      <th>molecule_chembl_id</th>\n",
       "      <th>standard_value</th>\n",
       "      <th>canonical_smiles</th>\n",
       "      <th>bioactivity</th>\n",
       "      <th>MW</th>\n",
       "      <th>LogP</th>\n",
       "      <th>NumHDonors</th>\n",
       "      <th>NumHAcceptors</th>\n",
       "    </tr>\n",
       "  </thead>\n",
       "  <tbody>\n",
       "    <tr>\n",
       "      <th>0</th>\n",
       "      <td>0</td>\n",
       "      <td>CHEMBL1401841</td>\n",
       "      <td>100000.0</td>\n",
       "      <td>COc1ccc2nc3cccc(OC)c3nc2c1</td>\n",
       "      <td>inactive</td>\n",
       "      <td>240.262</td>\n",
       "      <td>2.80020</td>\n",
       "      <td>0.0</td>\n",
       "      <td>4.0</td>\n",
       "    </tr>\n",
       "    <tr>\n",
       "      <th>1</th>\n",
       "      <td>1</td>\n",
       "      <td>CHEMBL1608853</td>\n",
       "      <td>12310.0</td>\n",
       "      <td>O=C(O)c1ccc2c(c1)C(=O)/C(=C\\c1ccco1)C2=O</td>\n",
       "      <td>inactive</td>\n",
       "      <td>268.224</td>\n",
       "      <td>2.44040</td>\n",
       "      <td>1.0</td>\n",
       "      <td>4.0</td>\n",
       "    </tr>\n",
       "    <tr>\n",
       "      <th>2</th>\n",
       "      <td>2</td>\n",
       "      <td>CHEMBL1429799</td>\n",
       "      <td>100000.0</td>\n",
       "      <td>O=C1NN(c2ccccc2)C(=O)/C1=C\\c1ccccc1OCC(=O)N1CC...</td>\n",
       "      <td>inactive</td>\n",
       "      <td>407.426</td>\n",
       "      <td>1.38560</td>\n",
       "      <td>1.0</td>\n",
       "      <td>5.0</td>\n",
       "    </tr>\n",
       "    <tr>\n",
       "      <th>3</th>\n",
       "      <td>3</td>\n",
       "      <td>CHEMBL246446</td>\n",
       "      <td>50970.0</td>\n",
       "      <td>O=C(O)c1ccc2nc(-c3ccco3)c(-c3ccco3)nc2c1</td>\n",
       "      <td>inactive</td>\n",
       "      <td>306.277</td>\n",
       "      <td>3.84800</td>\n",
       "      <td>1.0</td>\n",
       "      <td>5.0</td>\n",
       "    </tr>\n",
       "    <tr>\n",
       "      <th>4</th>\n",
       "      <td>4</td>\n",
       "      <td>CHEMBL1383455</td>\n",
       "      <td>100000.0</td>\n",
       "      <td>CCn1nc([N+](=O)[O-])c(C(C#N)c2nc3ccccc3n2C)c(C...</td>\n",
       "      <td>inactive</td>\n",
       "      <td>372.772</td>\n",
       "      <td>2.36698</td>\n",
       "      <td>0.0</td>\n",
       "      <td>8.0</td>\n",
       "    </tr>\n",
       "    <tr>\n",
       "      <th>...</th>\n",
       "      <td>...</td>\n",
       "      <td>...</td>\n",
       "      <td>...</td>\n",
       "      <td>...</td>\n",
       "      <td>...</td>\n",
       "      <td>...</td>\n",
       "      <td>...</td>\n",
       "      <td>...</td>\n",
       "      <td>...</td>\n",
       "    </tr>\n",
       "    <tr>\n",
       "      <th>1232</th>\n",
       "      <td>1279</td>\n",
       "      <td>CHEMBL5190612</td>\n",
       "      <td>25200.0</td>\n",
       "      <td>Cc1ccc(S(=O)(=O)Nc2ccc(-c3nnc(SCc4ccc(C(F)(F)F...</td>\n",
       "      <td>inactive</td>\n",
       "      <td>505.543</td>\n",
       "      <td>6.15692</td>\n",
       "      <td>1.0</td>\n",
       "      <td>6.0</td>\n",
       "    </tr>\n",
       "    <tr>\n",
       "      <th>1233</th>\n",
       "      <td>1280</td>\n",
       "      <td>CHEMBL5176952</td>\n",
       "      <td>23900.0</td>\n",
       "      <td>Cc1ccc(S(=O)(=O)Nc2ccc(-c3nnc(SCc4cccc(C(F)(F)...</td>\n",
       "      <td>inactive</td>\n",
       "      <td>505.543</td>\n",
       "      <td>6.15692</td>\n",
       "      <td>1.0</td>\n",
       "      <td>6.0</td>\n",
       "    </tr>\n",
       "    <tr>\n",
       "      <th>1234</th>\n",
       "      <td>1281</td>\n",
       "      <td>CHEMBL5184942</td>\n",
       "      <td>24000.0</td>\n",
       "      <td>Cc1ccc(S(=O)(=O)Nc2ccc(-c3nnc(SCc4ccccc4C(F)(F...</td>\n",
       "      <td>inactive</td>\n",
       "      <td>505.543</td>\n",
       "      <td>6.15692</td>\n",
       "      <td>1.0</td>\n",
       "      <td>6.0</td>\n",
       "    </tr>\n",
       "    <tr>\n",
       "      <th>1235</th>\n",
       "      <td>1282</td>\n",
       "      <td>CHEMBL4526128</td>\n",
       "      <td>9610.0</td>\n",
       "      <td>O=C(N[C@@H](Cc1ccc(O)cc1)C(=O)O)c1cc(-c2ccccc2...</td>\n",
       "      <td>intermediate</td>\n",
       "      <td>582.678</td>\n",
       "      <td>6.02400</td>\n",
       "      <td>3.0</td>\n",
       "      <td>7.0</td>\n",
       "    </tr>\n",
       "    <tr>\n",
       "      <th>1236</th>\n",
       "      <td>1283</td>\n",
       "      <td>CHEMBL5177478</td>\n",
       "      <td>200.0</td>\n",
       "      <td>CC(=O)N[C@@H](CCCCN)C(=O)N[C@@H](CCCCN)C(=O)N[...</td>\n",
       "      <td>active</td>\n",
       "      <td>712.814</td>\n",
       "      <td>4.00560</td>\n",
       "      <td>6.0</td>\n",
       "      <td>7.0</td>\n",
       "    </tr>\n",
       "  </tbody>\n",
       "</table>\n",
       "<p>1237 rows × 9 columns</p>\n",
       "</div>"
      ],
      "text/plain": [
       "      Unnamed: 0 molecule_chembl_id  standard_value  \\\n",
       "0              0      CHEMBL1401841        100000.0   \n",
       "1              1      CHEMBL1608853         12310.0   \n",
       "2              2      CHEMBL1429799        100000.0   \n",
       "3              3       CHEMBL246446         50970.0   \n",
       "4              4      CHEMBL1383455        100000.0   \n",
       "...          ...                ...             ...   \n",
       "1232        1279      CHEMBL5190612         25200.0   \n",
       "1233        1280      CHEMBL5176952         23900.0   \n",
       "1234        1281      CHEMBL5184942         24000.0   \n",
       "1235        1282      CHEMBL4526128          9610.0   \n",
       "1236        1283      CHEMBL5177478           200.0   \n",
       "\n",
       "                                       canonical_smiles   bioactivity  \\\n",
       "0                            COc1ccc2nc3cccc(OC)c3nc2c1      inactive   \n",
       "1              O=C(O)c1ccc2c(c1)C(=O)/C(=C\\c1ccco1)C2=O      inactive   \n",
       "2     O=C1NN(c2ccccc2)C(=O)/C1=C\\c1ccccc1OCC(=O)N1CC...      inactive   \n",
       "3              O=C(O)c1ccc2nc(-c3ccco3)c(-c3ccco3)nc2c1      inactive   \n",
       "4     CCn1nc([N+](=O)[O-])c(C(C#N)c2nc3ccccc3n2C)c(C...      inactive   \n",
       "...                                                 ...           ...   \n",
       "1232  Cc1ccc(S(=O)(=O)Nc2ccc(-c3nnc(SCc4ccc(C(F)(F)F...      inactive   \n",
       "1233  Cc1ccc(S(=O)(=O)Nc2ccc(-c3nnc(SCc4cccc(C(F)(F)...      inactive   \n",
       "1234  Cc1ccc(S(=O)(=O)Nc2ccc(-c3nnc(SCc4ccccc4C(F)(F...      inactive   \n",
       "1235  O=C(N[C@@H](Cc1ccc(O)cc1)C(=O)O)c1cc(-c2ccccc2...  intermediate   \n",
       "1236  CC(=O)N[C@@H](CCCCN)C(=O)N[C@@H](CCCCN)C(=O)N[...        active   \n",
       "\n",
       "           MW     LogP  NumHDonors  NumHAcceptors  \n",
       "0     240.262  2.80020         0.0            4.0  \n",
       "1     268.224  2.44040         1.0            4.0  \n",
       "2     407.426  1.38560         1.0            5.0  \n",
       "3     306.277  3.84800         1.0            5.0  \n",
       "4     372.772  2.36698         0.0            8.0  \n",
       "...       ...      ...         ...            ...  \n",
       "1232  505.543  6.15692         1.0            6.0  \n",
       "1233  505.543  6.15692         1.0            6.0  \n",
       "1234  505.543  6.15692         1.0            6.0  \n",
       "1235  582.678  6.02400         3.0            7.0  \n",
       "1236  712.814  4.00560         6.0            7.0  \n",
       "\n",
       "[1237 rows x 9 columns]"
      ]
     },
     "execution_count": 13,
     "metadata": {},
     "output_type": "execute_result"
    }
   ],
   "source": [
    "xa"
   ]
  },
  {
   "cell_type": "code",
   "execution_count": 14,
   "id": "0c86c209-a4c6-41c4-8ab3-4138b50b3098",
   "metadata": {},
   "outputs": [
    {
     "data": {
      "text/plain": [
       "(1237, 9)"
      ]
     },
     "execution_count": 14,
     "metadata": {},
     "output_type": "execute_result"
    }
   ],
   "source": [
    "xa.shape"
   ]
  },
  {
   "cell_type": "code",
   "execution_count": 15,
   "id": "b64527b4-1b0e-4459-becb-a298df1ba54d",
   "metadata": {},
   "outputs": [
    {
     "data": {
      "text/html": [
       "<div>\n",
       "<style scoped>\n",
       "    .dataframe tbody tr th:only-of-type {\n",
       "        vertical-align: middle;\n",
       "    }\n",
       "\n",
       "    .dataframe tbody tr th {\n",
       "        vertical-align: top;\n",
       "    }\n",
       "\n",
       "    .dataframe thead th {\n",
       "        text-align: right;\n",
       "    }\n",
       "</style>\n",
       "<table border=\"1\" class=\"dataframe\">\n",
       "  <thead>\n",
       "    <tr style=\"text-align: right;\">\n",
       "      <th></th>\n",
       "      <th>molecule_chembl_id</th>\n",
       "      <th>standard_value</th>\n",
       "      <th>canonical_smiles</th>\n",
       "      <th>bioactivity</th>\n",
       "      <th>MW</th>\n",
       "      <th>LogP</th>\n",
       "      <th>NumHDonors</th>\n",
       "      <th>NumHAcceptors</th>\n",
       "    </tr>\n",
       "  </thead>\n",
       "  <tbody>\n",
       "    <tr>\n",
       "      <th>0</th>\n",
       "      <td>CHEMBL1401841</td>\n",
       "      <td>100000.0</td>\n",
       "      <td>COc1ccc2nc3cccc(OC)c3nc2c1</td>\n",
       "      <td>inactive</td>\n",
       "      <td>240.262</td>\n",
       "      <td>2.80020</td>\n",
       "      <td>0.0</td>\n",
       "      <td>4.0</td>\n",
       "    </tr>\n",
       "    <tr>\n",
       "      <th>1</th>\n",
       "      <td>CHEMBL1608853</td>\n",
       "      <td>12310.0</td>\n",
       "      <td>O=C(O)c1ccc2c(c1)C(=O)/C(=C\\c1ccco1)C2=O</td>\n",
       "      <td>inactive</td>\n",
       "      <td>268.224</td>\n",
       "      <td>2.44040</td>\n",
       "      <td>1.0</td>\n",
       "      <td>4.0</td>\n",
       "    </tr>\n",
       "    <tr>\n",
       "      <th>2</th>\n",
       "      <td>CHEMBL1429799</td>\n",
       "      <td>100000.0</td>\n",
       "      <td>O=C1NN(c2ccccc2)C(=O)/C1=C\\c1ccccc1OCC(=O)N1CC...</td>\n",
       "      <td>inactive</td>\n",
       "      <td>407.426</td>\n",
       "      <td>1.38560</td>\n",
       "      <td>1.0</td>\n",
       "      <td>5.0</td>\n",
       "    </tr>\n",
       "    <tr>\n",
       "      <th>3</th>\n",
       "      <td>CHEMBL246446</td>\n",
       "      <td>50970.0</td>\n",
       "      <td>O=C(O)c1ccc2nc(-c3ccco3)c(-c3ccco3)nc2c1</td>\n",
       "      <td>inactive</td>\n",
       "      <td>306.277</td>\n",
       "      <td>3.84800</td>\n",
       "      <td>1.0</td>\n",
       "      <td>5.0</td>\n",
       "    </tr>\n",
       "    <tr>\n",
       "      <th>4</th>\n",
       "      <td>CHEMBL1383455</td>\n",
       "      <td>100000.0</td>\n",
       "      <td>CCn1nc([N+](=O)[O-])c(C(C#N)c2nc3ccccc3n2C)c(C...</td>\n",
       "      <td>inactive</td>\n",
       "      <td>372.772</td>\n",
       "      <td>2.36698</td>\n",
       "      <td>0.0</td>\n",
       "      <td>8.0</td>\n",
       "    </tr>\n",
       "    <tr>\n",
       "      <th>...</th>\n",
       "      <td>...</td>\n",
       "      <td>...</td>\n",
       "      <td>...</td>\n",
       "      <td>...</td>\n",
       "      <td>...</td>\n",
       "      <td>...</td>\n",
       "      <td>...</td>\n",
       "      <td>...</td>\n",
       "    </tr>\n",
       "    <tr>\n",
       "      <th>1232</th>\n",
       "      <td>CHEMBL5190612</td>\n",
       "      <td>25200.0</td>\n",
       "      <td>Cc1ccc(S(=O)(=O)Nc2ccc(-c3nnc(SCc4ccc(C(F)(F)F...</td>\n",
       "      <td>inactive</td>\n",
       "      <td>505.543</td>\n",
       "      <td>6.15692</td>\n",
       "      <td>1.0</td>\n",
       "      <td>6.0</td>\n",
       "    </tr>\n",
       "    <tr>\n",
       "      <th>1233</th>\n",
       "      <td>CHEMBL5176952</td>\n",
       "      <td>23900.0</td>\n",
       "      <td>Cc1ccc(S(=O)(=O)Nc2ccc(-c3nnc(SCc4cccc(C(F)(F)...</td>\n",
       "      <td>inactive</td>\n",
       "      <td>505.543</td>\n",
       "      <td>6.15692</td>\n",
       "      <td>1.0</td>\n",
       "      <td>6.0</td>\n",
       "    </tr>\n",
       "    <tr>\n",
       "      <th>1234</th>\n",
       "      <td>CHEMBL5184942</td>\n",
       "      <td>24000.0</td>\n",
       "      <td>Cc1ccc(S(=O)(=O)Nc2ccc(-c3nnc(SCc4ccccc4C(F)(F...</td>\n",
       "      <td>inactive</td>\n",
       "      <td>505.543</td>\n",
       "      <td>6.15692</td>\n",
       "      <td>1.0</td>\n",
       "      <td>6.0</td>\n",
       "    </tr>\n",
       "    <tr>\n",
       "      <th>1235</th>\n",
       "      <td>CHEMBL4526128</td>\n",
       "      <td>9610.0</td>\n",
       "      <td>O=C(N[C@@H](Cc1ccc(O)cc1)C(=O)O)c1cc(-c2ccccc2...</td>\n",
       "      <td>intermediate</td>\n",
       "      <td>582.678</td>\n",
       "      <td>6.02400</td>\n",
       "      <td>3.0</td>\n",
       "      <td>7.0</td>\n",
       "    </tr>\n",
       "    <tr>\n",
       "      <th>1236</th>\n",
       "      <td>CHEMBL5177478</td>\n",
       "      <td>200.0</td>\n",
       "      <td>CC(=O)N[C@@H](CCCCN)C(=O)N[C@@H](CCCCN)C(=O)N[...</td>\n",
       "      <td>active</td>\n",
       "      <td>712.814</td>\n",
       "      <td>4.00560</td>\n",
       "      <td>6.0</td>\n",
       "      <td>7.0</td>\n",
       "    </tr>\n",
       "  </tbody>\n",
       "</table>\n",
       "<p>1237 rows × 8 columns</p>\n",
       "</div>"
      ],
      "text/plain": [
       "     molecule_chembl_id  standard_value  \\\n",
       "0         CHEMBL1401841        100000.0   \n",
       "1         CHEMBL1608853         12310.0   \n",
       "2         CHEMBL1429799        100000.0   \n",
       "3          CHEMBL246446         50970.0   \n",
       "4         CHEMBL1383455        100000.0   \n",
       "...                 ...             ...   \n",
       "1232      CHEMBL5190612         25200.0   \n",
       "1233      CHEMBL5176952         23900.0   \n",
       "1234      CHEMBL5184942         24000.0   \n",
       "1235      CHEMBL4526128          9610.0   \n",
       "1236      CHEMBL5177478           200.0   \n",
       "\n",
       "                                       canonical_smiles   bioactivity  \\\n",
       "0                            COc1ccc2nc3cccc(OC)c3nc2c1      inactive   \n",
       "1              O=C(O)c1ccc2c(c1)C(=O)/C(=C\\c1ccco1)C2=O      inactive   \n",
       "2     O=C1NN(c2ccccc2)C(=O)/C1=C\\c1ccccc1OCC(=O)N1CC...      inactive   \n",
       "3              O=C(O)c1ccc2nc(-c3ccco3)c(-c3ccco3)nc2c1      inactive   \n",
       "4     CCn1nc([N+](=O)[O-])c(C(C#N)c2nc3ccccc3n2C)c(C...      inactive   \n",
       "...                                                 ...           ...   \n",
       "1232  Cc1ccc(S(=O)(=O)Nc2ccc(-c3nnc(SCc4ccc(C(F)(F)F...      inactive   \n",
       "1233  Cc1ccc(S(=O)(=O)Nc2ccc(-c3nnc(SCc4cccc(C(F)(F)...      inactive   \n",
       "1234  Cc1ccc(S(=O)(=O)Nc2ccc(-c3nnc(SCc4ccccc4C(F)(F...      inactive   \n",
       "1235  O=C(N[C@@H](Cc1ccc(O)cc1)C(=O)O)c1cc(-c2ccccc2...  intermediate   \n",
       "1236  CC(=O)N[C@@H](CCCCN)C(=O)N[C@@H](CCCCN)C(=O)N[...        active   \n",
       "\n",
       "           MW     LogP  NumHDonors  NumHAcceptors  \n",
       "0     240.262  2.80020         0.0            4.0  \n",
       "1     268.224  2.44040         1.0            4.0  \n",
       "2     407.426  1.38560         1.0            5.0  \n",
       "3     306.277  3.84800         1.0            5.0  \n",
       "4     372.772  2.36698         0.0            8.0  \n",
       "...       ...      ...         ...            ...  \n",
       "1232  505.543  6.15692         1.0            6.0  \n",
       "1233  505.543  6.15692         1.0            6.0  \n",
       "1234  505.543  6.15692         1.0            6.0  \n",
       "1235  582.678  6.02400         3.0            7.0  \n",
       "1236  712.814  4.00560         6.0            7.0  \n",
       "\n",
       "[1237 rows x 8 columns]"
      ]
     },
     "execution_count": 15,
     "metadata": {},
     "output_type": "execute_result"
    }
   ],
   "source": [
    "xa.drop(columns=['Unnamed: 0'])"
   ]
  },
  {
   "cell_type": "code",
   "execution_count": 35,
   "id": "bb92e337-2b14-48d7-b2c8-5f76b02292d7",
   "metadata": {},
   "outputs": [
    {
     "data": {
      "image/png": "[encoded data removed]",
      "text/plain": [
       "<Figure size 640x480 with 1 Axes>"
      ]
     },
     "metadata": {},
     "output_type": "display_data"
    }
   ],
   "source": [
    "import matplotlib.pyplot as plt\n",
    "fig=plt.figure()\n",
    "ax=fig.add_axes([0,0,1,1])\n",
    "ax.scatter(xa.LogP,xa.MW)\n",
    "plt.show()"
   ]
  },
  {
   "cell_type": "code",
   "execution_count": 67,
   "id": "82385677-0c98-435e-9c5b-c01c2ee7ddbf",
   "metadata": {},
   "outputs": [],
   "source": [
    "import numpy as np\n",
    "\n",
    "def pIC50(input):\n",
    "    pIC50 = []\n",
    "\n",
    "    for i in input['standard_value_norm']:\n",
    "        molar = i*(10**-9) # Converts nM to M\n",
    "        pIC50.append(-np.log10(molar))\n",
    "\n",
    "    input['pIC50'] = pIC50\n",
    "    x = input.drop('standard_value_norm', axis=1)\n",
    "        \n",
    "    return x"
   ]
  },
  {
   "cell_type": "code",
   "execution_count": 41,
   "id": "93f14fa3-0489-4399-a5a1-cd409f2df0a9",
   "metadata": {},
   "outputs": [
    {
     "data": {
      "text/plain": [
       "count      1237.000000\n",
       "mean      46433.283331\n",
       "std       34762.712868\n",
       "min           0.480000\n",
       "25%       19410.000000\n",
       "50%       39880.000000\n",
       "75%       68100.000000\n",
       "max      432000.000000\n",
       "Name: standard_value, dtype: float64"
      ]
     },
     "execution_count": 41,
     "metadata": {},
     "output_type": "execute_result"
    }
   ],
   "source": [
    "xa.standard_value.describe()"
   ]
  },
  {
   "cell_type": "code",
   "execution_count": 43,
   "id": "0dc3ecbf-e632-4cda-9b37-66c292e800ba",
   "metadata": {},
   "outputs": [
    {
     "data": {
      "text/plain": [
       "1.0"
      ]
     },
     "execution_count": 43,
     "metadata": {},
     "output_type": "execute_result"
    }
   ],
   "source": [
    "-np.log10( (10**-9)* 100000000 )"
   ]
  },
  {
   "cell_type": "code",
   "execution_count": 45,
   "id": "61e0bbda-9a1b-4a89-a66e-07a4e8b00822",
   "metadata": {},
   "outputs": [
    {
     "data": {
      "text/plain": [
       "-1.0"
      ]
     },
     "execution_count": 45,
     "metadata": {},
     "output_type": "execute_result"
    }
   ],
   "source": [
    "-np.log10( (10**-9)* 10000000000 )"
   ]
  },
  {
   "cell_type": "code",
   "execution_count": 57,
   "id": "ca0d4741-94b4-4c5a-a0b2-0b55da45786a",
   "metadata": {},
   "outputs": [],
   "source": [
    "def norm_value(input):\n",
    "    norm = []\n",
    "\n",
    "    for i in input['standard_value']:\n",
    "        if i > 100000000:\n",
    "            i = 100000000\n",
    "        norm.append(i)\n",
    "\n",
    "    input['standard_value_norm'] = norm\n",
    "    x = input.drop('standard_value', axis=1)  # Corrected axis argument\n",
    "        \n",
    "    return x\n",
    "\n",
    "\n"
   ]
  },
  {
   "cell_type": "code",
   "execution_count": 59,
   "id": "fe18bd2e-a543-43d1-9b43-32d6304e7441",
   "metadata": {},
   "outputs": [
    {
     "data": {
      "text/html": [
       "<div>\n",
       "<style scoped>\n",
       "    .dataframe tbody tr th:only-of-type {\n",
       "        vertical-align: middle;\n",
       "    }\n",
       "\n",
       "    .dataframe tbody tr th {\n",
       "        vertical-align: top;\n",
       "    }\n",
       "\n",
       "    .dataframe thead th {\n",
       "        text-align: right;\n",
       "    }\n",
       "</style>\n",
       "<table border=\"1\" class=\"dataframe\">\n",
       "  <thead>\n",
       "    <tr style=\"text-align: right;\">\n",
       "      <th></th>\n",
       "      <th>Unnamed: 0</th>\n",
       "      <th>molecule_chembl_id</th>\n",
       "      <th>canonical_smiles</th>\n",
       "      <th>bioactivity</th>\n",
       "      <th>MW</th>\n",
       "      <th>LogP</th>\n",
       "      <th>NumHDonors</th>\n",
       "      <th>NumHAcceptors</th>\n",
       "      <th>standard_value_norm</th>\n",
       "    </tr>\n",
       "  </thead>\n",
       "  <tbody>\n",
       "    <tr>\n",
       "      <th>0</th>\n",
       "      <td>0</td>\n",
       "      <td>CHEMBL1401841</td>\n",
       "      <td>COc1ccc2nc3cccc(OC)c3nc2c1</td>\n",
       "      <td>inactive</td>\n",
       "      <td>240.262</td>\n",
       "      <td>2.80020</td>\n",
       "      <td>0.0</td>\n",
       "      <td>4.0</td>\n",
       "      <td>100000.0</td>\n",
       "    </tr>\n",
       "    <tr>\n",
       "      <th>1</th>\n",
       "      <td>1</td>\n",
       "      <td>CHEMBL1608853</td>\n",
       "      <td>O=C(O)c1ccc2c(c1)C(=O)/C(=C\\c1ccco1)C2=O</td>\n",
       "      <td>inactive</td>\n",
       "      <td>268.224</td>\n",
       "      <td>2.44040</td>\n",
       "      <td>1.0</td>\n",
       "      <td>4.0</td>\n",
       "      <td>12310.0</td>\n",
       "    </tr>\n",
       "    <tr>\n",
       "      <th>2</th>\n",
       "      <td>2</td>\n",
       "      <td>CHEMBL1429799</td>\n",
       "      <td>O=C1NN(c2ccccc2)C(=O)/C1=C\\c1ccccc1OCC(=O)N1CC...</td>\n",
       "      <td>inactive</td>\n",
       "      <td>407.426</td>\n",
       "      <td>1.38560</td>\n",
       "      <td>1.0</td>\n",
       "      <td>5.0</td>\n",
       "      <td>100000.0</td>\n",
       "    </tr>\n",
       "    <tr>\n",
       "      <th>3</th>\n",
       "      <td>3</td>\n",
       "      <td>CHEMBL246446</td>\n",
       "      <td>O=C(O)c1ccc2nc(-c3ccco3)c(-c3ccco3)nc2c1</td>\n",
       "      <td>inactive</td>\n",
       "      <td>306.277</td>\n",
       "      <td>3.84800</td>\n",
       "      <td>1.0</td>\n",
       "      <td>5.0</td>\n",
       "      <td>50970.0</td>\n",
       "    </tr>\n",
       "    <tr>\n",
       "      <th>4</th>\n",
       "      <td>4</td>\n",
       "      <td>CHEMBL1383455</td>\n",
       "      <td>CCn1nc([N+](=O)[O-])c(C(C#N)c2nc3ccccc3n2C)c(C...</td>\n",
       "      <td>inactive</td>\n",
       "      <td>372.772</td>\n",
       "      <td>2.36698</td>\n",
       "      <td>0.0</td>\n",
       "      <td>8.0</td>\n",
       "      <td>100000.0</td>\n",
       "    </tr>\n",
       "    <tr>\n",
       "      <th>...</th>\n",
       "      <td>...</td>\n",
       "      <td>...</td>\n",
       "      <td>...</td>\n",
       "      <td>...</td>\n",
       "      <td>...</td>\n",
       "      <td>...</td>\n",
       "      <td>...</td>\n",
       "      <td>...</td>\n",
       "      <td>...</td>\n",
       "    </tr>\n",
       "    <tr>\n",
       "      <th>1232</th>\n",
       "      <td>1279</td>\n",
       "      <td>CHEMBL5190612</td>\n",
       "      <td>Cc1ccc(S(=O)(=O)Nc2ccc(-c3nnc(SCc4ccc(C(F)(F)F...</td>\n",
       "      <td>inactive</td>\n",
       "      <td>505.543</td>\n",
       "      <td>6.15692</td>\n",
       "      <td>1.0</td>\n",
       "      <td>6.0</td>\n",
       "      <td>25200.0</td>\n",
       "    </tr>\n",
       "    <tr>\n",
       "      <th>1233</th>\n",
       "      <td>1280</td>\n",
       "      <td>CHEMBL5176952</td>\n",
       "      <td>Cc1ccc(S(=O)(=O)Nc2ccc(-c3nnc(SCc4cccc(C(F)(F)...</td>\n",
       "      <td>inactive</td>\n",
       "      <td>505.543</td>\n",
       "      <td>6.15692</td>\n",
       "      <td>1.0</td>\n",
       "      <td>6.0</td>\n",
       "      <td>23900.0</td>\n",
       "    </tr>\n",
       "    <tr>\n",
       "      <th>1234</th>\n",
       "      <td>1281</td>\n",
       "      <td>CHEMBL5184942</td>\n",
       "      <td>Cc1ccc(S(=O)(=O)Nc2ccc(-c3nnc(SCc4ccccc4C(F)(F...</td>\n",
       "      <td>inactive</td>\n",
       "      <td>505.543</td>\n",
       "      <td>6.15692</td>\n",
       "      <td>1.0</td>\n",
       "      <td>6.0</td>\n",
       "      <td>24000.0</td>\n",
       "    </tr>\n",
       "    <tr>\n",
       "      <th>1235</th>\n",
       "      <td>1282</td>\n",
       "      <td>CHEMBL4526128</td>\n",
       "      <td>O=C(N[C@@H](Cc1ccc(O)cc1)C(=O)O)c1cc(-c2ccccc2...</td>\n",
       "      <td>intermediate</td>\n",
       "      <td>582.678</td>\n",
       "      <td>6.02400</td>\n",
       "      <td>3.0</td>\n",
       "      <td>7.0</td>\n",
       "      <td>9610.0</td>\n",
       "    </tr>\n",
       "    <tr>\n",
       "      <th>1236</th>\n",
       "      <td>1283</td>\n",
       "      <td>CHEMBL5177478</td>\n",
       "      <td>CC(=O)N[C@@H](CCCCN)C(=O)N[C@@H](CCCCN)C(=O)N[...</td>\n",
       "      <td>active</td>\n",
       "      <td>712.814</td>\n",
       "      <td>4.00560</td>\n",
       "      <td>6.0</td>\n",
       "      <td>7.0</td>\n",
       "      <td>200.0</td>\n",
       "    </tr>\n",
       "  </tbody>\n",
       "</table>\n",
       "<p>1237 rows × 9 columns</p>\n",
       "</div>"
      ],
      "text/plain": [
       "      Unnamed: 0 molecule_chembl_id  \\\n",
       "0              0      CHEMBL1401841   \n",
       "1              1      CHEMBL1608853   \n",
       "2              2      CHEMBL1429799   \n",
       "3              3       CHEMBL246446   \n",
       "4              4      CHEMBL1383455   \n",
       "...          ...                ...   \n",
       "1232        1279      CHEMBL5190612   \n",
       "1233        1280      CHEMBL5176952   \n",
       "1234        1281      CHEMBL5184942   \n",
       "1235        1282      CHEMBL4526128   \n",
       "1236        1283      CHEMBL5177478   \n",
       "\n",
       "                                       canonical_smiles   bioactivity  \\\n",
       "0                            COc1ccc2nc3cccc(OC)c3nc2c1      inactive   \n",
       "1              O=C(O)c1ccc2c(c1)C(=O)/C(=C\\c1ccco1)C2=O      inactive   \n",
       "2     O=C1NN(c2ccccc2)C(=O)/C1=C\\c1ccccc1OCC(=O)N1CC...      inactive   \n",
       "3              O=C(O)c1ccc2nc(-c3ccco3)c(-c3ccco3)nc2c1      inactive   \n",
       "4     CCn1nc([N+](=O)[O-])c(C(C#N)c2nc3ccccc3n2C)c(C...      inactive   \n",
       "...                                                 ...           ...   \n",
       "1232  Cc1ccc(S(=O)(=O)Nc2ccc(-c3nnc(SCc4ccc(C(F)(F)F...      inactive   \n",
       "1233  Cc1ccc(S(=O)(=O)Nc2ccc(-c3nnc(SCc4cccc(C(F)(F)...      inactive   \n",
       "1234  Cc1ccc(S(=O)(=O)Nc2ccc(-c3nnc(SCc4ccccc4C(F)(F...      inactive   \n",
       "1235  O=C(N[C@@H](Cc1ccc(O)cc1)C(=O)O)c1cc(-c2ccccc2...  intermediate   \n",
       "1236  CC(=O)N[C@@H](CCCCN)C(=O)N[C@@H](CCCCN)C(=O)N[...        active   \n",
       "\n",
       "           MW     LogP  NumHDonors  NumHAcceptors  standard_value_norm  \n",
       "0     240.262  2.80020         0.0            4.0             100000.0  \n",
       "1     268.224  2.44040         1.0            4.0              12310.0  \n",
       "2     407.426  1.38560         1.0            5.0             100000.0  \n",
       "3     306.277  3.84800         1.0            5.0              50970.0  \n",
       "4     372.772  2.36698         0.0            8.0             100000.0  \n",
       "...       ...      ...         ...            ...                  ...  \n",
       "1232  505.543  6.15692         1.0            6.0              25200.0  \n",
       "1233  505.543  6.15692         1.0            6.0              23900.0  \n",
       "1234  505.543  6.15692         1.0            6.0              24000.0  \n",
       "1235  582.678  6.02400         3.0            7.0               9610.0  \n",
       "1236  712.814  4.00560         6.0            7.0                200.0  \n",
       "\n",
       "[1237 rows x 9 columns]"
      ]
     },
     "execution_count": 59,
     "metadata": {},
     "output_type": "execute_result"
    }
   ],
   "source": [
    "df_norm = norm_value(xa)\n",
    "df_norm"
   ]
  },
  {
   "cell_type": "code",
   "execution_count": 63,
   "id": "2fb6034a-cbb2-44a7-9c0e-39b6481d8151",
   "metadata": {},
   "outputs": [
    {
     "data": {
      "text/plain": [
       "count      1237.000000\n",
       "mean      46433.283331\n",
       "std       34762.712868\n",
       "min           0.480000\n",
       "25%       19410.000000\n",
       "50%       39880.000000\n",
       "75%       68100.000000\n",
       "max      432000.000000\n",
       "Name: standard_value_norm, dtype: float64"
      ]
     },
     "execution_count": 63,
     "metadata": {},
     "output_type": "execute_result"
    }
   ],
   "source": [
    "df_norm.standard_value_norm.describe()"
   ]
  },
  {
   "cell_type": "code",
   "execution_count": 69,
   "id": "87ff0147-a13a-4a08-baa7-4c9541cbed4b",
   "metadata": {},
   "outputs": [
    {
     "data": {
      "text/html": [
       "<div>\n",
       "<style scoped>\n",
       "    .dataframe tbody tr th:only-of-type {\n",
       "        vertical-align: middle;\n",
       "    }\n",
       "\n",
       "    .dataframe tbody tr th {\n",
       "        vertical-align: top;\n",
       "    }\n",
       "\n",
       "    .dataframe thead th {\n",
       "        text-align: right;\n",
       "    }\n",
       "</style>\n",
       "<table border=\"1\" class=\"dataframe\">\n",
       "  <thead>\n",
       "    <tr style=\"text-align: right;\">\n",
       "      <th></th>\n",
       "      <th>Unnamed: 0</th>\n",
       "      <th>molecule_chembl_id</th>\n",
       "      <th>canonical_smiles</th>\n",
       "      <th>bioactivity</th>\n",
       "      <th>MW</th>\n",
       "      <th>LogP</th>\n",
       "      <th>NumHDonors</th>\n",
       "      <th>NumHAcceptors</th>\n",
       "      <th>pIC50</th>\n",
       "    </tr>\n",
       "  </thead>\n",
       "  <tbody>\n",
       "    <tr>\n",
       "      <th>0</th>\n",
       "      <td>0</td>\n",
       "      <td>CHEMBL1401841</td>\n",
       "      <td>COc1ccc2nc3cccc(OC)c3nc2c1</td>\n",
       "      <td>inactive</td>\n",
       "      <td>240.262</td>\n",
       "      <td>2.80020</td>\n",
       "      <td>0.0</td>\n",
       "      <td>4.0</td>\n",
       "      <td>4.000000</td>\n",
       "    </tr>\n",
       "    <tr>\n",
       "      <th>1</th>\n",
       "      <td>1</td>\n",
       "      <td>CHEMBL1608853</td>\n",
       "      <td>O=C(O)c1ccc2c(c1)C(=O)/C(=C\\c1ccco1)C2=O</td>\n",
       "      <td>inactive</td>\n",
       "      <td>268.224</td>\n",
       "      <td>2.44040</td>\n",
       "      <td>1.0</td>\n",
       "      <td>4.0</td>\n",
       "      <td>4.909742</td>\n",
       "    </tr>\n",
       "    <tr>\n",
       "      <th>2</th>\n",
       "      <td>2</td>\n",
       "      <td>CHEMBL1429799</td>\n",
       "      <td>O=C1NN(c2ccccc2)C(=O)/C1=C\\c1ccccc1OCC(=O)N1CC...</td>\n",
       "      <td>inactive</td>\n",
       "      <td>407.426</td>\n",
       "      <td>1.38560</td>\n",
       "      <td>1.0</td>\n",
       "      <td>5.0</td>\n",
       "      <td>4.000000</td>\n",
       "    </tr>\n",
       "    <tr>\n",
       "      <th>3</th>\n",
       "      <td>3</td>\n",
       "      <td>CHEMBL246446</td>\n",
       "      <td>O=C(O)c1ccc2nc(-c3ccco3)c(-c3ccco3)nc2c1</td>\n",
       "      <td>inactive</td>\n",
       "      <td>306.277</td>\n",
       "      <td>3.84800</td>\n",
       "      <td>1.0</td>\n",
       "      <td>5.0</td>\n",
       "      <td>4.292685</td>\n",
       "    </tr>\n",
       "    <tr>\n",
       "      <th>4</th>\n",
       "      <td>4</td>\n",
       "      <td>CHEMBL1383455</td>\n",
       "      <td>CCn1nc([N+](=O)[O-])c(C(C#N)c2nc3ccccc3n2C)c(C...</td>\n",
       "      <td>inactive</td>\n",
       "      <td>372.772</td>\n",
       "      <td>2.36698</td>\n",
       "      <td>0.0</td>\n",
       "      <td>8.0</td>\n",
       "      <td>4.000000</td>\n",
       "    </tr>\n",
       "    <tr>\n",
       "      <th>...</th>\n",
       "      <td>...</td>\n",
       "      <td>...</td>\n",
       "      <td>...</td>\n",
       "      <td>...</td>\n",
       "      <td>...</td>\n",
       "      <td>...</td>\n",
       "      <td>...</td>\n",
       "      <td>...</td>\n",
       "      <td>...</td>\n",
       "    </tr>\n",
       "    <tr>\n",
       "      <th>1232</th>\n",
       "      <td>1279</td>\n",
       "      <td>CHEMBL5190612</td>\n",
       "      <td>Cc1ccc(S(=O)(=O)Nc2ccc(-c3nnc(SCc4ccc(C(F)(F)F...</td>\n",
       "      <td>inactive</td>\n",
       "      <td>505.543</td>\n",
       "      <td>6.15692</td>\n",
       "      <td>1.0</td>\n",
       "      <td>6.0</td>\n",
       "      <td>4.598599</td>\n",
       "    </tr>\n",
       "    <tr>\n",
       "      <th>1233</th>\n",
       "      <td>1280</td>\n",
       "      <td>CHEMBL5176952</td>\n",
       "      <td>Cc1ccc(S(=O)(=O)Nc2ccc(-c3nnc(SCc4cccc(C(F)(F)...</td>\n",
       "      <td>inactive</td>\n",
       "      <td>505.543</td>\n",
       "      <td>6.15692</td>\n",
       "      <td>1.0</td>\n",
       "      <td>6.0</td>\n",
       "      <td>4.621602</td>\n",
       "    </tr>\n",
       "    <tr>\n",
       "      <th>1234</th>\n",
       "      <td>1281</td>\n",
       "      <td>CHEMBL5184942</td>\n",
       "      <td>Cc1ccc(S(=O)(=O)Nc2ccc(-c3nnc(SCc4ccccc4C(F)(F...</td>\n",
       "      <td>inactive</td>\n",
       "      <td>505.543</td>\n",
       "      <td>6.15692</td>\n",
       "      <td>1.0</td>\n",
       "      <td>6.0</td>\n",
       "      <td>4.619789</td>\n",
       "    </tr>\n",
       "    <tr>\n",
       "      <th>1235</th>\n",
       "      <td>1282</td>\n",
       "      <td>CHEMBL4526128</td>\n",
       "      <td>O=C(N[C@@H](Cc1ccc(O)cc1)C(=O)O)c1cc(-c2ccccc2...</td>\n",
       "      <td>intermediate</td>\n",
       "      <td>582.678</td>\n",
       "      <td>6.02400</td>\n",
       "      <td>3.0</td>\n",
       "      <td>7.0</td>\n",
       "      <td>5.017277</td>\n",
       "    </tr>\n",
       "    <tr>\n",
       "      <th>1236</th>\n",
       "      <td>1283</td>\n",
       "      <td>CHEMBL5177478</td>\n",
       "      <td>CC(=O)N[C@@H](CCCCN)C(=O)N[C@@H](CCCCN)C(=O)N[...</td>\n",
       "      <td>active</td>\n",
       "      <td>712.814</td>\n",
       "      <td>4.00560</td>\n",
       "      <td>6.0</td>\n",
       "      <td>7.0</td>\n",
       "      <td>6.698970</td>\n",
       "    </tr>\n",
       "  </tbody>\n",
       "</table>\n",
       "<p>1237 rows × 9 columns</p>\n",
       "</div>"
      ],
      "text/plain": [
       "      Unnamed: 0 molecule_chembl_id  \\\n",
       "0              0      CHEMBL1401841   \n",
       "1              1      CHEMBL1608853   \n",
       "2              2      CHEMBL1429799   \n",
       "3              3       CHEMBL246446   \n",
       "4              4      CHEMBL1383455   \n",
       "...          ...                ...   \n",
       "1232        1279      CHEMBL5190612   \n",
       "1233        1280      CHEMBL5176952   \n",
       "1234        1281      CHEMBL5184942   \n",
       "1235        1282      CHEMBL4526128   \n",
       "1236        1283      CHEMBL5177478   \n",
       "\n",
       "                                       canonical_smiles   bioactivity  \\\n",
       "0                            COc1ccc2nc3cccc(OC)c3nc2c1      inactive   \n",
       "1              O=C(O)c1ccc2c(c1)C(=O)/C(=C\\c1ccco1)C2=O      inactive   \n",
       "2     O=C1NN(c2ccccc2)C(=O)/C1=C\\c1ccccc1OCC(=O)N1CC...      inactive   \n",
       "3              O=C(O)c1ccc2nc(-c3ccco3)c(-c3ccco3)nc2c1      inactive   \n",
       "4     CCn1nc([N+](=O)[O-])c(C(C#N)c2nc3ccccc3n2C)c(C...      inactive   \n",
       "...                                                 ...           ...   \n",
       "1232  Cc1ccc(S(=O)(=O)Nc2ccc(-c3nnc(SCc4ccc(C(F)(F)F...      inactive   \n",
       "1233  Cc1ccc(S(=O)(=O)Nc2ccc(-c3nnc(SCc4cccc(C(F)(F)...      inactive   \n",
       "1234  Cc1ccc(S(=O)(=O)Nc2ccc(-c3nnc(SCc4ccccc4C(F)(F...      inactive   \n",
       "1235  O=C(N[C@@H](Cc1ccc(O)cc1)C(=O)O)c1cc(-c2ccccc2...  intermediate   \n",
       "1236  CC(=O)N[C@@H](CCCCN)C(=O)N[C@@H](CCCCN)C(=O)N[...        active   \n",
       "\n",
       "           MW     LogP  NumHDonors  NumHAcceptors     pIC50  \n",
       "0     240.262  2.80020         0.0            4.0  4.000000  \n",
       "1     268.224  2.44040         1.0            4.0  4.909742  \n",
       "2     407.426  1.38560         1.0            5.0  4.000000  \n",
       "3     306.277  3.84800         1.0            5.0  4.292685  \n",
       "4     372.772  2.36698         0.0            8.0  4.000000  \n",
       "...       ...      ...         ...            ...       ...  \n",
       "1232  505.543  6.15692         1.0            6.0  4.598599  \n",
       "1233  505.543  6.15692         1.0            6.0  4.621602  \n",
       "1234  505.543  6.15692         1.0            6.0  4.619789  \n",
       "1235  582.678  6.02400         3.0            7.0  5.017277  \n",
       "1236  712.814  4.00560         6.0            7.0  6.698970  \n",
       "\n",
       "[1237 rows x 9 columns]"
      ]
     },
     "execution_count": 69,
     "metadata": {},
     "output_type": "execute_result"
    }
   ],
   "source": [
    "df_final = pIC50(df_norm)\n",
    "df_final"
   ]
  },
  {
   "cell_type": "code",
   "execution_count": 75,
   "id": "07b1ca43-c593-4068-ac43-340c6da0e009",
   "metadata": {},
   "outputs": [],
   "source": [
    "df_final2 = df_final[df_final['bioactivity'] != 'intermediate']"
   ]
  },
  {
   "cell_type": "code",
   "execution_count": 77,
   "id": "e140dd09-7f70-41f1-b789-5ab22be34cc2",
   "metadata": {},
   "outputs": [
    {
     "data": {
      "text/html": [
       "<div>\n",
       "<style scoped>\n",
       "    .dataframe tbody tr th:only-of-type {\n",
       "        vertical-align: middle;\n",
       "    }\n",
       "\n",
       "    .dataframe tbody tr th {\n",
       "        vertical-align: top;\n",
       "    }\n",
       "\n",
       "    .dataframe thead th {\n",
       "        text-align: right;\n",
       "    }\n",
       "</style>\n",
       "<table border=\"1\" class=\"dataframe\">\n",
       "  <thead>\n",
       "    <tr style=\"text-align: right;\">\n",
       "      <th></th>\n",
       "      <th>Unnamed: 0</th>\n",
       "      <th>molecule_chembl_id</th>\n",
       "      <th>canonical_smiles</th>\n",
       "      <th>bioactivity</th>\n",
       "      <th>MW</th>\n",
       "      <th>LogP</th>\n",
       "      <th>NumHDonors</th>\n",
       "      <th>NumHAcceptors</th>\n",
       "      <th>pIC50</th>\n",
       "    </tr>\n",
       "  </thead>\n",
       "  <tbody>\n",
       "    <tr>\n",
       "      <th>0</th>\n",
       "      <td>0</td>\n",
       "      <td>CHEMBL1401841</td>\n",
       "      <td>COc1ccc2nc3cccc(OC)c3nc2c1</td>\n",
       "      <td>inactive</td>\n",
       "      <td>240.262</td>\n",
       "      <td>2.80020</td>\n",
       "      <td>0.0</td>\n",
       "      <td>4.0</td>\n",
       "      <td>4.000000</td>\n",
       "    </tr>\n",
       "    <tr>\n",
       "      <th>1</th>\n",
       "      <td>1</td>\n",
       "      <td>CHEMBL1608853</td>\n",
       "      <td>O=C(O)c1ccc2c(c1)C(=O)/C(=C\\c1ccco1)C2=O</td>\n",
       "      <td>inactive</td>\n",
       "      <td>268.224</td>\n",
       "      <td>2.44040</td>\n",
       "      <td>1.0</td>\n",
       "      <td>4.0</td>\n",
       "      <td>4.909742</td>\n",
       "    </tr>\n",
       "    <tr>\n",
       "      <th>2</th>\n",
       "      <td>2</td>\n",
       "      <td>CHEMBL1429799</td>\n",
       "      <td>O=C1NN(c2ccccc2)C(=O)/C1=C\\c1ccccc1OCC(=O)N1CC...</td>\n",
       "      <td>inactive</td>\n",
       "      <td>407.426</td>\n",
       "      <td>1.38560</td>\n",
       "      <td>1.0</td>\n",
       "      <td>5.0</td>\n",
       "      <td>4.000000</td>\n",
       "    </tr>\n",
       "    <tr>\n",
       "      <th>3</th>\n",
       "      <td>3</td>\n",
       "      <td>CHEMBL246446</td>\n",
       "      <td>O=C(O)c1ccc2nc(-c3ccco3)c(-c3ccco3)nc2c1</td>\n",
       "      <td>inactive</td>\n",
       "      <td>306.277</td>\n",
       "      <td>3.84800</td>\n",
       "      <td>1.0</td>\n",
       "      <td>5.0</td>\n",
       "      <td>4.292685</td>\n",
       "    </tr>\n",
       "    <tr>\n",
       "      <th>4</th>\n",
       "      <td>4</td>\n",
       "      <td>CHEMBL1383455</td>\n",
       "      <td>CCn1nc([N+](=O)[O-])c(C(C#N)c2nc3ccccc3n2C)c(C...</td>\n",
       "      <td>inactive</td>\n",
       "      <td>372.772</td>\n",
       "      <td>2.36698</td>\n",
       "      <td>0.0</td>\n",
       "      <td>8.0</td>\n",
       "      <td>4.000000</td>\n",
       "    </tr>\n",
       "  </tbody>\n",
       "</table>\n",
       "</div>"
      ],
      "text/plain": [
       "   Unnamed: 0 molecule_chembl_id  \\\n",
       "0           0      CHEMBL1401841   \n",
       "1           1      CHEMBL1608853   \n",
       "2           2      CHEMBL1429799   \n",
       "3           3       CHEMBL246446   \n",
       "4           4      CHEMBL1383455   \n",
       "\n",
       "                                    canonical_smiles bioactivity       MW  \\\n",
       "0                         COc1ccc2nc3cccc(OC)c3nc2c1    inactive  240.262   \n",
       "1           O=C(O)c1ccc2c(c1)C(=O)/C(=C\\c1ccco1)C2=O    inactive  268.224   \n",
       "2  O=C1NN(c2ccccc2)C(=O)/C1=C\\c1ccccc1OCC(=O)N1CC...    inactive  407.426   \n",
       "3           O=C(O)c1ccc2nc(-c3ccco3)c(-c3ccco3)nc2c1    inactive  306.277   \n",
       "4  CCn1nc([N+](=O)[O-])c(C(C#N)c2nc3ccccc3n2C)c(C...    inactive  372.772   \n",
       "\n",
       "      LogP  NumHDonors  NumHAcceptors     pIC50  \n",
       "0  2.80020         0.0            4.0  4.000000  \n",
       "1  2.44040         1.0            4.0  4.909742  \n",
       "2  1.38560         1.0            5.0  4.000000  \n",
       "3  3.84800         1.0            5.0  4.292685  \n",
       "4  2.36698         0.0            8.0  4.000000  "
      ]
     },
     "execution_count": 77,
     "metadata": {},
     "output_type": "execute_result"
    }
   ],
   "source": [
    "df_final2.head()"
   ]
  },
  {
   "cell_type": "code",
   "execution_count": 83,
   "id": "69b58b7c-b682-4cea-a896-4d311ef02d49",
   "metadata": {},
   "outputs": [],
   "source": [
    "a=df_final2.drop(columns='Unnamed: 0')"
   ]
  },
  {
   "cell_type": "code",
   "execution_count": 85,
   "id": "3f5aab22-c685-440d-a208-aa2fef8fe42d",
   "metadata": {},
   "outputs": [
    {
     "data": {
      "text/html": [
       "<div>\n",
       "<style scoped>\n",
       "    .dataframe tbody tr th:only-of-type {\n",
       "        vertical-align: middle;\n",
       "    }\n",
       "\n",
       "    .dataframe tbody tr th {\n",
       "        vertical-align: top;\n",
       "    }\n",
       "\n",
       "    .dataframe thead th {\n",
       "        text-align: right;\n",
       "    }\n",
       "</style>\n",
       "<table border=\"1\" class=\"dataframe\">\n",
       "  <thead>\n",
       "    <tr style=\"text-align: right;\">\n",
       "      <th></th>\n",
       "      <th>molecule_chembl_id</th>\n",
       "      <th>canonical_smiles</th>\n",
       "      <th>bioactivity</th>\n",
       "      <th>MW</th>\n",
       "      <th>LogP</th>\n",
       "      <th>NumHDonors</th>\n",
       "      <th>NumHAcceptors</th>\n",
       "      <th>pIC50</th>\n",
       "    </tr>\n",
       "  </thead>\n",
       "  <tbody>\n",
       "    <tr>\n",
       "      <th>0</th>\n",
       "      <td>CHEMBL1401841</td>\n",
       "      <td>COc1ccc2nc3cccc(OC)c3nc2c1</td>\n",
       "      <td>inactive</td>\n",
       "      <td>240.262</td>\n",
       "      <td>2.80020</td>\n",
       "      <td>0.0</td>\n",
       "      <td>4.0</td>\n",
       "      <td>4.000000</td>\n",
       "    </tr>\n",
       "    <tr>\n",
       "      <th>1</th>\n",
       "      <td>CHEMBL1608853</td>\n",
       "      <td>O=C(O)c1ccc2c(c1)C(=O)/C(=C\\c1ccco1)C2=O</td>\n",
       "      <td>inactive</td>\n",
       "      <td>268.224</td>\n",
       "      <td>2.44040</td>\n",
       "      <td>1.0</td>\n",
       "      <td>4.0</td>\n",
       "      <td>4.909742</td>\n",
       "    </tr>\n",
       "    <tr>\n",
       "      <th>2</th>\n",
       "      <td>CHEMBL1429799</td>\n",
       "      <td>O=C1NN(c2ccccc2)C(=O)/C1=C\\c1ccccc1OCC(=O)N1CC...</td>\n",
       "      <td>inactive</td>\n",
       "      <td>407.426</td>\n",
       "      <td>1.38560</td>\n",
       "      <td>1.0</td>\n",
       "      <td>5.0</td>\n",
       "      <td>4.000000</td>\n",
       "    </tr>\n",
       "    <tr>\n",
       "      <th>3</th>\n",
       "      <td>CHEMBL246446</td>\n",
       "      <td>O=C(O)c1ccc2nc(-c3ccco3)c(-c3ccco3)nc2c1</td>\n",
       "      <td>inactive</td>\n",
       "      <td>306.277</td>\n",
       "      <td>3.84800</td>\n",
       "      <td>1.0</td>\n",
       "      <td>5.0</td>\n",
       "      <td>4.292685</td>\n",
       "    </tr>\n",
       "    <tr>\n",
       "      <th>4</th>\n",
       "      <td>CHEMBL1383455</td>\n",
       "      <td>CCn1nc([N+](=O)[O-])c(C(C#N)c2nc3ccccc3n2C)c(C...</td>\n",
       "      <td>inactive</td>\n",
       "      <td>372.772</td>\n",
       "      <td>2.36698</td>\n",
       "      <td>0.0</td>\n",
       "      <td>8.0</td>\n",
       "      <td>4.000000</td>\n",
       "    </tr>\n",
       "  </tbody>\n",
       "</table>\n",
       "</div>"
      ],
      "text/plain": [
       "  molecule_chembl_id                                   canonical_smiles  \\\n",
       "0      CHEMBL1401841                         COc1ccc2nc3cccc(OC)c3nc2c1   \n",
       "1      CHEMBL1608853           O=C(O)c1ccc2c(c1)C(=O)/C(=C\\c1ccco1)C2=O   \n",
       "2      CHEMBL1429799  O=C1NN(c2ccccc2)C(=O)/C1=C\\c1ccccc1OCC(=O)N1CC...   \n",
       "3       CHEMBL246446           O=C(O)c1ccc2nc(-c3ccco3)c(-c3ccco3)nc2c1   \n",
       "4      CHEMBL1383455  CCn1nc([N+](=O)[O-])c(C(C#N)c2nc3ccccc3n2C)c(C...   \n",
       "\n",
       "  bioactivity       MW     LogP  NumHDonors  NumHAcceptors     pIC50  \n",
       "0    inactive  240.262  2.80020         0.0            4.0  4.000000  \n",
       "1    inactive  268.224  2.44040         1.0            4.0  4.909742  \n",
       "2    inactive  407.426  1.38560         1.0            5.0  4.000000  \n",
       "3    inactive  306.277  3.84800         1.0            5.0  4.292685  \n",
       "4    inactive  372.772  2.36698         0.0            8.0  4.000000  "
      ]
     },
     "execution_count": 85,
     "metadata": {},
     "output_type": "execute_result"
    }
   ],
   "source": [
    "a.head()"
   ]
  },
  {
   "cell_type": "code",
   "execution_count": 103,
   "id": "420a360e-9e9f-4b4f-8376-79339eeb112c",
   "metadata": {},
   "outputs": [
    {
     "data": {
      "image/png": "[encoded data removed]",
      "text/plain": [
       "<Figure size 640x480 with 1 Axes>"
      ]
     },
     "metadata": {},
     "output_type": "display_data"
    }
   ],
   "source": [
    "import seaborn as sns\n",
    "sns.countplot(df_final2.bioactivity)\n",
    "plt.show()"
   ]
  },
  {
   "cell_type": "code",
   "execution_count": 113,
   "id": "080bf6c6-5746-424e-be0b-16a83cace474",
   "metadata": {},
   "outputs": [
    {
     "data": {
      "text/plain": [
       "'inactiveactive'"
      ]
     },
     "execution_count": 113,
     "metadata": {},
     "output_type": "execute_result"
    }
   ],
   "source": [
    "df_final2.bioactivity.unique()"
   ]
  },
  {
   "cell_type": "code",
   "execution_count": 117,
   "id": "47347358-e769-44bb-9c08-88b59071c16f",
   "metadata": {},
   "outputs": [],
   "source": [
    "ab=df_final2['bioactivity'].value_counts()"
   ]
  },
  {
   "cell_type": "code",
   "execution_count": 121,
   "id": "3e3130b2-42b2-403a-a80d-a23292568063",
   "metadata": {},
   "outputs": [
    {
     "data": {
      "image/png": "[encoded data removed]",
      "text/plain": [
       "<Figure size 640x480 with 1 Axes>"
      ]
     },
     "metadata": {},
     "output_type": "display_data"
    }
   ],
   "source": [
    "fig1=plt.figure()\n",
    "ax=fig1.add_axes([0,0,1,1])\n",
    "ax.pie(ab)\n",
    "\n",
    "plt.show()\n"
   ]
  },
  {
   "cell_type": "code",
   "execution_count": 123,
   "id": "00c00c64-f479-484f-a44b-e2821b82f66e",
   "metadata": {},
   "outputs": [
    {
     "data": {
      "image/png": "[encoded data removed]",
      "text/plain": [
       "<Figure size 800x800 with 1 Axes>"
      ]
     },
     "metadata": {},
     "output_type": "display_data"
    }
   ],
   "source": [
    "import matplotlib.pyplot as plt\n",
    "\n",
    "# Get the value counts for the 'bioactivity' column\n",
    "bioactivity_counts = df_final2['bioactivity'].value_counts()\n",
    "\n",
    "# Plot a pie chart\n",
    "bioactivity_counts.plot.pie(autopct='%1.1f%%', figsize=(8, 8), colors=['skyblue', 'lightgreen', 'coral'])\n",
    "\n",
    "# Set the title\n",
    "plt.title('Bioactivity Distribution')\n",
    "\n",
    "# Display the plot\n",
    "plt.ylabel('')  # Remove the y-label for a cleaner look\n",
    "plt.show()\n"
   ]
  },
  {
   "cell_type": "code",
   "execution_count": 125,
   "id": "8d96bdde-d174-448b-80ac-be7a3951f5e0",
   "metadata": {},
   "outputs": [
    {
     "data": {
      "image/png": "[encoded data removed]",
      "text/plain": [
       "<Figure size 640x480 with 1 Axes>"
      ]
     },
     "metadata": {},
     "output_type": "display_data"
    }
   ],
   "source": [
    "fig3=plt.figure()\n",
    "ax=fig3.add_axes([0,0,1,1])\n",
    "ax.scatter(a.LogP,a.MW)\n",
    "plt.show()"
   ]
  },
  {
   "cell_type": "code",
   "execution_count": 133,
   "id": "a4dbba72-9190-4b19-84a5-9aeab8aeef23",
   "metadata": {},
   "outputs": [
    {
     "data": {
      "image/png": "[encoded data removed]",
      "text/plain": [
       "<Figure size 550x550 with 1 Axes>"
      ]
     },
     "metadata": {},
     "output_type": "display_data"
    }
   ],
   "source": [
    "\n",
    "\n",
    "plt.figure(figsize=(5.5, 5.5))\n",
    "\n",
    "# Use 'bioactivity' instead of 'class' for the hue parameter\n",
    "sns.scatterplot(x='MW', y='LogP', data=a, hue='bioactivity', size='pIC50', edgecolor='black', alpha=0.7)\n",
    "\n",
    "plt.xlabel('MW', fontsize=14, fontweight='bold')\n",
    "plt.ylabel('LogP', fontsize=14, fontweight='bold')\n",
    "plt.legend(bbox_to_anchor=(1.05, 1), loc=2, borderaxespad=0)\n",
    "plt.savefig('plot_MW_vs_LogP.pdf')\n",
    "plt.show()\n"
   ]
  },
  {
   "cell_type": "code",
   "execution_count": 135,
   "id": "3fdda25d-d423-40c0-8481-2fabea98e7a2",
   "metadata": {},
   "outputs": [
    {
     "data": {
      "text/plain": [
       "Index(['molecule_chembl_id', 'canonical_smiles', 'bioactivity', 'MW', 'LogP',\n",
       "       'NumHDonors', 'NumHAcceptors', 'pIC50'],\n",
       "      dtype='object')"
      ]
     },
     "execution_count": 135,
     "metadata": {},
     "output_type": "execute_result"
    }
   ],
   "source": [
    "a.columns"
   ]
  },
  {
   "cell_type": "code",
   "execution_count": 143,
   "id": "429ea37f-768a-4168-82c0-40d1873c9b89",
   "metadata": {},
   "outputs": [
    {
     "data": {
      "text/plain": [
       "<Axes: xlabel='bioactivity', ylabel='pIC50'>"
      ]
     },
     "execution_count": 143,
     "metadata": {},
     "output_type": "execute_result"
    },
    {
     "data": {
      "image/png": "[encoded data removed]",
      "text/plain": [
       "<Figure size 1200x800 with 1 Axes>"
      ]
     },
     "metadata": {},
     "output_type": "display_data"
    }
   ],
   "source": [
    "plt.figure(figsize=(12,8))\n",
    "sns.boxplot(data=a,x='bioactivity',y='pIC50')"
   ]
  },
  {
   "cell_type": "code",
   "execution_count": 163,
   "id": "846cc7c7-3790-4e8c-9a41-217a3322425b",
   "metadata": {},
   "outputs": [],
   "source": [
    "def mannwhitney(descriptor, verbose=False):\n",
    "  # https://machinelearningmastery.com/nonparametric-statistical-significance-tests-in-python/\n",
    "  from numpy.random import seed\n",
    "  from numpy.random import randn\n",
    "  from scipy.stats import mannwhitneyu\n",
    "\n",
    "# seed the random number generator\n",
    "  seed(1)\n",
    "\n",
    "# actives and inactives\n",
    "  selection = [descriptor, 'bioactivity']\n",
    "  df = a[selection]\n",
    "  active = df[df['bioactivity'] == 'active']\n",
    "  active = active[descriptor]\n",
    "\n",
    "  selection = [descriptor, 'bioactivity']\n",
    "  df = a[selection]\n",
    "  inactive = df[df['bioactivity'] == 'inactive']\n",
    "  inactive = inactive[descriptor]\n",
    "\n",
    "# compare samples\n",
    "  stat, p = mannwhitneyu(active, inactive)\n",
    "  #print('Statistics=%.3f, p=%.3f' % (stat, p))\n",
    "\n",
    "# interpret\n",
    "  alpha = 0.05\n",
    "  if p > alpha:\n",
    "    interpretation = 'Same distribution (fail to reject H0)'\n",
    "  else:\n",
    "    interpretation = 'Different distribution (reject H0)'\n",
    "  \n",
    "  results = pd.DataFrame({'Descriptor':descriptor,\n",
    "                          'Statistics':stat,\n",
    "                          'p':p,\n",
    "                          'alpha':alpha,\n",
    "                          'Interpretation':interpretation}, index=[0])\n",
    "  filename = 'mannwhitneyu_' + descriptor + '.csv'\n",
    "  results.to_csv('bio-3.csv')\n",
    "\n",
    "  return results\n",
    "     "
   ]
  },
  {
   "cell_type": "code",
   "execution_count": 165,
   "id": "c1d574cc-bb02-44e3-a155-e8e255e4f9a2",
   "metadata": {},
   "outputs": [
    {
     "data": {
      "text/html": [
       "<div>\n",
       "<style scoped>\n",
       "    .dataframe tbody tr th:only-of-type {\n",
       "        vertical-align: middle;\n",
       "    }\n",
       "\n",
       "    .dataframe tbody tr th {\n",
       "        vertical-align: top;\n",
       "    }\n",
       "\n",
       "    .dataframe thead th {\n",
       "        text-align: right;\n",
       "    }\n",
       "</style>\n",
       "<table border=\"1\" class=\"dataframe\">\n",
       "  <thead>\n",
       "    <tr style=\"text-align: right;\">\n",
       "      <th></th>\n",
       "      <th>Descriptor</th>\n",
       "      <th>Statistics</th>\n",
       "      <th>p</th>\n",
       "      <th>alpha</th>\n",
       "      <th>Interpretation</th>\n",
       "    </tr>\n",
       "  </thead>\n",
       "  <tbody>\n",
       "    <tr>\n",
       "      <th>0</th>\n",
       "      <td>pIC50</td>\n",
       "      <td>38554.0</td>\n",
       "      <td>3.468328e-25</td>\n",
       "      <td>0.05</td>\n",
       "      <td>Different distribution (reject H0)</td>\n",
       "    </tr>\n",
       "  </tbody>\n",
       "</table>\n",
       "</div>"
      ],
      "text/plain": [
       "  Descriptor  Statistics             p  alpha  \\\n",
       "0      pIC50     38554.0  3.468328e-25   0.05   \n",
       "\n",
       "                       Interpretation  \n",
       "0  Different distribution (reject H0)  "
      ]
     },
     "execution_count": 165,
     "metadata": {},
     "output_type": "execute_result"
    }
   ],
   "source": [
    "mannwhitney('pIC50')"
   ]
  },
  {
   "cell_type": "code",
   "execution_count": 1,
   "id": "5f0d3396-3ba9-4faa-be38-e114699d5c13",
   "metadata": {},
   "outputs": [
    {
     "ename": "NameError",
     "evalue": "name 'plt' is not defined",
     "output_type": "error",
     "traceback": [
      "\u001b[1;31m---------------------------------------------------------------------------\u001b[0m",
      "\u001b[1;31mNameError\u001b[0m                                 Traceback (most recent call last)",
      "Cell \u001b[1;32mIn[1], line 1\u001b[0m\n\u001b[1;32m----> 1\u001b[0m plt\u001b[38;5;241m.\u001b[39mfigure(figsize\u001b[38;5;241m=\u001b[39m(\u001b[38;5;241m10\u001b[39m,\u001b[38;5;241m8\u001b[39m))\n\u001b[0;32m      2\u001b[0m sns\u001b[38;5;241m.\u001b[39mboxplot(data\u001b[38;5;241m=\u001b[39ma,x\u001b[38;5;241m=\u001b[39m\u001b[38;5;124m'\u001b[39m\u001b[38;5;124mbioactivity\u001b[39m\u001b[38;5;124m'\u001b[39m,y\u001b[38;5;241m=\u001b[39m\u001b[38;5;124m'\u001b[39m\u001b[38;5;124mMW\u001b[39m\u001b[38;5;124m'\u001b[39m)\n",
      "\u001b[1;31mNameError\u001b[0m: name 'plt' is not defined"
     ]
    }
   ],
   "source": [
    "plt.figure(figsize=(10,8))\n",
    "sns.boxplot(data=a,x='bioactivity',y='MW')"
   ]
  },
  {
   "cell_type": "code",
   "execution_count": 179,
   "id": "536cf1c7-3f2a-49df-b362-8c8de37ff6b3",
   "metadata": {},
   "outputs": [
    {
     "data": {
      "text/html": [
       "<div>\n",
       "<style scoped>\n",
       "    .dataframe tbody tr th:only-of-type {\n",
       "        vertical-align: middle;\n",
       "    }\n",
       "\n",
       "    .dataframe tbody tr th {\n",
       "        vertical-align: top;\n",
       "    }\n",
       "\n",
       "    .dataframe thead th {\n",
       "        text-align: right;\n",
       "    }\n",
       "</style>\n",
       "<table border=\"1\" class=\"dataframe\">\n",
       "  <thead>\n",
       "    <tr style=\"text-align: right;\">\n",
       "      <th></th>\n",
       "      <th>Descriptor</th>\n",
       "      <th>Statistics</th>\n",
       "      <th>p</th>\n",
       "      <th>alpha</th>\n",
       "      <th>Interpretation</th>\n",
       "    </tr>\n",
       "  </thead>\n",
       "  <tbody>\n",
       "    <tr>\n",
       "      <th>0</th>\n",
       "      <td>LogP</td>\n",
       "      <td>20381.0</td>\n",
       "      <td>0.553581</td>\n",
       "      <td>0.05</td>\n",
       "      <td>Same distribution (fail to reject H0)</td>\n",
       "    </tr>\n",
       "  </tbody>\n",
       "</table>\n",
       "</div>"
      ],
      "text/plain": [
       "  Descriptor  Statistics         p  alpha  \\\n",
       "0       LogP     20381.0  0.553581   0.05   \n",
       "\n",
       "                          Interpretation  \n",
       "0  Same distribution (fail to reject H0)  "
      ]
     },
     "execution_count": 179,
     "metadata": {},
     "output_type": "execute_result"
    }
   ],
   "source": [
    "mannwhitney('LogP')"
   ]
  },
  {
   "cell_type": "code",
   "execution_count": 173,
   "id": "5d78df34-e07e-449c-b740-5178f63851ee",
   "metadata": {},
   "outputs": [
    {
     "data": {
      "text/plain": [
       "<Axes: xlabel='bioactivity', ylabel='LogP'>"
      ]
     },
     "execution_count": 173,
     "metadata": {},
     "output_type": "execute_result"
    },
    {
     "data": {
      "image/png": "[encoded data removed]",
      "text/plain": [
       "<Figure size 1200x800 with 1 Axes>"
      ]
     },
     "metadata": {},
     "output_type": "display_data"
    }
   ],
   "source": [
    "plt.figure(figsize=(12,8))\n",
    "sns.boxplot(data=a,x='bioactivity',y='LogP')"
   ]
  },
  {
   "cell_type": "code",
   "execution_count": 181,
   "id": "9ee85ff8-46b6-4e35-8f8a-e4a84400aaf3",
   "metadata": {},
   "outputs": [
    {
     "data": {
      "text/html": [
       "<div>\n",
       "<style scoped>\n",
       "    .dataframe tbody tr th:only-of-type {\n",
       "        vertical-align: middle;\n",
       "    }\n",
       "\n",
       "    .dataframe tbody tr th {\n",
       "        vertical-align: top;\n",
       "    }\n",
       "\n",
       "    .dataframe thead th {\n",
       "        text-align: right;\n",
       "    }\n",
       "</style>\n",
       "<table border=\"1\" class=\"dataframe\">\n",
       "  <thead>\n",
       "    <tr style=\"text-align: right;\">\n",
       "      <th></th>\n",
       "      <th>Descriptor</th>\n",
       "      <th>Statistics</th>\n",
       "      <th>p</th>\n",
       "      <th>alpha</th>\n",
       "      <th>Interpretation</th>\n",
       "    </tr>\n",
       "  </thead>\n",
       "  <tbody>\n",
       "    <tr>\n",
       "      <th>0</th>\n",
       "      <td>NumHDonors</td>\n",
       "      <td>30053.0</td>\n",
       "      <td>2.103118e-09</td>\n",
       "      <td>0.05</td>\n",
       "      <td>Different distribution (reject H0)</td>\n",
       "    </tr>\n",
       "  </tbody>\n",
       "</table>\n",
       "</div>"
      ],
      "text/plain": [
       "   Descriptor  Statistics             p  alpha  \\\n",
       "0  NumHDonors     30053.0  2.103118e-09   0.05   \n",
       "\n",
       "                       Interpretation  \n",
       "0  Different distribution (reject H0)  "
      ]
     },
     "execution_count": 181,
     "metadata": {},
     "output_type": "execute_result"
    }
   ],
   "source": [
    "mannwhitney('NumHDonors')"
   ]
  },
  {
   "cell_type": "code",
   "execution_count": 175,
   "id": "9a089d43-4df3-42bb-8a2e-dc3f67908c03",
   "metadata": {},
   "outputs": [
    {
     "data": {
      "text/plain": [
       "<Axes: xlabel='bioactivity', ylabel='NumHDonors'>"
      ]
     },
     "execution_count": 175,
     "metadata": {},
     "output_type": "execute_result"
    },
    {
     "data": {
      "image/png": "[encoded data removed]",
      "text/plain": [
       "<Figure size 1200x800 with 1 Axes>"
      ]
     },
     "metadata": {},
     "output_type": "display_data"
    }
   ],
   "source": [
    "plt.figure(figsize=(12,8))\n",
    "sns.boxplot(data=a,x='bioactivity',y='NumHDonors')"
   ]
  },
  {
   "cell_type": "code",
   "execution_count": 183,
   "id": "88785ddd-f945-4611-a443-a1563afa3379",
   "metadata": {},
   "outputs": [
    {
     "data": {
      "text/html": [
       "<div>\n",
       "<style scoped>\n",
       "    .dataframe tbody tr th:only-of-type {\n",
       "        vertical-align: middle;\n",
       "    }\n",
       "\n",
       "    .dataframe tbody tr th {\n",
       "        vertical-align: top;\n",
       "    }\n",
       "\n",
       "    .dataframe thead th {\n",
       "        text-align: right;\n",
       "    }\n",
       "</style>\n",
       "<table border=\"1\" class=\"dataframe\">\n",
       "  <thead>\n",
       "    <tr style=\"text-align: right;\">\n",
       "      <th></th>\n",
       "      <th>Descriptor</th>\n",
       "      <th>Statistics</th>\n",
       "      <th>p</th>\n",
       "      <th>alpha</th>\n",
       "      <th>Interpretation</th>\n",
       "    </tr>\n",
       "  </thead>\n",
       "  <tbody>\n",
       "    <tr>\n",
       "      <th>0</th>\n",
       "      <td>NumHAcceptors</td>\n",
       "      <td>27951.5</td>\n",
       "      <td>0.000002</td>\n",
       "      <td>0.05</td>\n",
       "      <td>Different distribution (reject H0)</td>\n",
       "    </tr>\n",
       "  </tbody>\n",
       "</table>\n",
       "</div>"
      ],
      "text/plain": [
       "      Descriptor  Statistics         p  alpha  \\\n",
       "0  NumHAcceptors     27951.5  0.000002   0.05   \n",
       "\n",
       "                       Interpretation  \n",
       "0  Different distribution (reject H0)  "
      ]
     },
     "execution_count": 183,
     "metadata": {},
     "output_type": "execute_result"
    }
   ],
   "source": [
    "mannwhitney('NumHAcceptors')"
   ]
  },
  {
   "cell_type": "code",
   "execution_count": 177,
   "id": "d9091a50-e2a3-4b23-a7c9-f2429f01b712",
   "metadata": {},
   "outputs": [
    {
     "data": {
      "text/plain": [
       "<Axes: xlabel='bioactivity', ylabel='NumHAcceptors'>"
      ]
     },
     "execution_count": 177,
     "metadata": {},
     "output_type": "execute_result"
    },
    {
     "data": {
      "image/png": "[encoded data removed]",
      "text/plain": [
       "<Figure size 1200x800 with 1 Axes>"
      ]
     },
     "metadata": {},
     "output_type": "display_data"
    }
   ],
   "source": [
    "plt.figure(figsize=(12,8))\n",
    "sns.boxplot(data=a,x='bioactivity',y='NumHAcceptors')"
   ]
  },
  {
   "cell_type": "code",
   "execution_count": 187,
   "id": "d099e365-73b8-4071-a82f-612563ca670b",
   "metadata": {},
   "outputs": [
    {
     "name": "stdout",
     "output_type": "stream",
     "text": [
      "padel.zip downloaded.\n",
      "padel.sh downloaded.\n"
     ]
    }
   ],
   "source": [
    "import requests\n",
    "\n",
    "# URLs to download\n",
    "urls = [\n",
    "    \"https://github.com/dataprofessor/bioinformatics/raw/master/padel.zip\",\n",
    "    \"https://github.com/dataprofessor/bioinformatics/raw/master/padel.sh\"\n",
    "]\n",
    "\n",
    "# Download the files\n",
    "for url in urls:\n",
    "    # Get the file name by splitting the URL\n",
    "    file_name = url.split(\"/\")[-1]\n",
    "\n",
    "    # Send the request\n",
    "    response = requests.get(url)\n",
    "\n",
    "    # Write the content to a file\n",
    "    with open(file_name, 'wb') as file:\n",
    "        file.write(response.content)\n",
    "\n",
    "    print(f\"{file_name} downloaded.\")\n"
   ]
  },
  {
   "cell_type": "code",
   "execution_count": 193,
   "id": "d799dee6-c7fe-4f2b-b25d-8b6daf6b2399",
   "metadata": {},
   "outputs": [
    {
     "name": "stdout",
     "output_type": "stream",
     "text": [
      "padel.zip has been unzipped successfully.\n"
     ]
    }
   ],
   "source": [
    "import zipfile\n",
    "\n",
    "# Specify the name of the zip file\n",
    "zip_file = \"padel.zip\"\n",
    "\n",
    "# Open the zip file in read mode\n",
    "with zipfile.ZipFile(zip_file, 'r') as zip_ref:\n",
    "    # Extract all the contents into the current directory\n",
    "    zip_ref.extractall()\n",
    "\n",
    "print(f\"{zip_file} has been unzipped successfully.\")\n"
   ]
  },
  {
   "cell_type": "code",
   "execution_count": 195,
   "id": "015a5a21-c129-494e-b8d9-468675d4f2e9",
   "metadata": {},
   "outputs": [],
   "source": [
    "selection = ['canonical_smiles','molecule_chembl_id']\n",
    "df3_selection = a[selection]\n",
    "df3_selection.to_csv('molecule.smi', sep='\\t', index=False, header=False)"
   ]
  },
  {
   "cell_type": "code",
   "execution_count": 197,
   "id": "46c42eb7-e820-4a85-b4fc-7de55b58971a",
   "metadata": {},
   "outputs": [],
   "source": [
    "a.to_csv('bio-4.csv')"
   ]
  },
  {
   "cell_type": "code",
   "execution_count": 199,
   "id": "a5f57f50-7ed5-4da7-8b5d-0e924c3f5c69",
   "metadata": {},
   "outputs": [
    {
     "name": "stdout",
     "output_type": "stream",
     "text": [
      "COc1ccc2nc3cccc(OC)c3nc2c1\tCHEMBL1401841\n",
      "O=C(O)c1ccc2c(c1)C(=O)/C(=C\\c1ccco1)C2=O\tCHEMBL1608853\n",
      "O=C1NN(c2ccccc2)C(=O)/C1=C\\c1ccccc1OCC(=O)N1CCOCC1\tCHEMBL1429799\n",
      "O=C(O)c1ccc2nc(-c3ccco3)c(-c3ccco3)nc2c1\tCHEMBL246446\n",
      "CCn1nc([N+](=O)[O-])c(C(C#N)c2nc3ccccc3n2C)c(Cl)c1=O\tCHEMBL1383455\n"
     ]
    }
   ],
   "source": [
    "# Open the file and read the first 5 lines\n",
    "with open(\"molecule.smi\", \"r\") as file:\n",
    "    for i in range(5):\n",
    "        line = file.readline().strip()\n",
    "        print(line)\n"
   ]
  },
  {
   "cell_type": "code",
   "execution_count": 201,
   "id": "873a59f2-00a9-485e-9de3-e21c732f0565",
   "metadata": {},
   "outputs": [
    {
     "name": "stdout",
     "output_type": "stream",
     "text": [
      "Number of lines: 1079\n"
     ]
    }
   ],
   "source": [
    "# Count the number of lines in the file\n",
    "with open(\"molecule.smi\", \"r\") as file:\n",
    "    line_count = sum(1 for line in file)\n",
    "\n",
    "print(f\"Number of lines: {line_count}\")\n"
   ]
  },
  {
   "cell_type": "code",
   "execution_count": 203,
   "id": "18572765-eb2c-472c-bac0-6db9820e784b",
   "metadata": {},
   "outputs": [
    {
     "name": "stdout",
     "output_type": "stream",
     "text": [
      "java -Xms1G -Xmx1G -Djava.awt.headless=true -jar ./PaDEL-Descriptor/PaDEL-Descriptor.jar -removesalt -standardizenitro -fingerprints -descriptortypes ./PaDEL-Descriptor/PubchemFingerprinter.xml -dir ./ -file descriptors_output.csv\n",
      "\n"
     ]
    }
   ],
   "source": [
    "# Open and read the content of the shell script\n",
    "with open(\"padel.sh\", \"r\") as file:\n",
    "    content = file.read()\n",
    "\n",
    "print(content)\n"
   ]
  },
  {
   "cell_type": "code",
   "execution_count": 211,
   "id": "b6193835-bd41-4565-9436-40c7fc00982e",
   "metadata": {},
   "outputs": [
    {
     "data": {
      "text/plain": [
       "CompletedProcess(args=['C:\\\\Program Files\\\\Git\\\\bin\\\\bash.exe', 'padel.sh'], returncode=127)"
      ]
     },
     "execution_count": 211,
     "metadata": {},
     "output_type": "execute_result"
    }
   ],
   "source": [
    "import subprocess\n",
    "\n",
    "# Full path to bash, for example, in Git Bash\n",
    "bash_path = r\"C:\\Program Files\\Git\\bin\\bash.exe\"\n",
    "subprocess.run([bash_path, 'padel.sh'])\n"
   ]
  },
  {
   "cell_type": "code",
   "execution_count": 215,
   "id": "8c6ea93a-7c9a-4f70-a501-dcd72388aaeb",
   "metadata": {},
   "outputs": [
    {
     "data": {
      "text/plain": [
       "CompletedProcess(args=['C:\\\\Program Files\\\\Git\\\\bin\\\\bash.exe', 'padel.sh'], returncode=127)"
      ]
     },
     "execution_count": 215,
     "metadata": {},
     "output_type": "execute_result"
    }
   ],
   "source": [
    "subprocess.run([bash_path, 'padel.sh'])"
   ]
  },
  {
   "cell_type": "code",
   "execution_count": 219,
   "id": "cd2f36a9-264e-4204-99d7-c3e8628de45d",
   "metadata": {},
   "outputs": [
    {
     "name": "stdout",
     "output_type": "stream",
     "text": [
      "Couldn't find program: 'bash'\n"
     ]
    }
   ],
   "source": [
    "%%bash\n",
    "echo \"Hello, World!\"\n",
    "ls\n"
   ]
  },
  {
   "cell_type": "code",
   "execution_count": null,
   "id": "2c712375-d922-4ab2-bbcd-a1f150dfc3f7",
   "metadata": {},
   "outputs": [],
   "source": []
  }
 ],
 "metadata": {
  "kernelspec": {
   "display_name": "Python 3 (ipykernel)",
   "language": "python",
   "name": "python3"
  },
  "language_info": {
   "codemirror_mode": {
    "name": "ipython",
    "version": 3
   },
   "file_extension": ".py",
   "mimetype": "text/x-python",
   "name": "python",
   "nbconvert_exporter": "python",
   "pygments_lexer": "ipython3",
   "version": "3.12.4"
  }
 },
 "nbformat": 4,
 "nbformat_minor": 5
}
